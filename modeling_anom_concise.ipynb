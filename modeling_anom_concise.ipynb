{
 "cells": [
  {
   "cell_type": "code",
   "execution_count": 1,
   "metadata": {
    "id": "tkT-2xvxTQIa"
   },
   "outputs": [],
   "source": [
    "import numpy as np\n",
    "import pandas as pd\n",
    "import time\n",
    "import os"
   ]
  },
  {
   "cell_type": "code",
   "execution_count": 2,
   "metadata": {},
   "outputs": [
    {
     "data": {
      "text/plain": [
       "['.ipynb_checkpoints',\n",
       " 'dask-worker-space',\n",
       " 'MergedWithLabels.csv',\n",
       " 'modeling_anom.ipynb',\n",
       " 'modeling_anom_concise.ipynb',\n",
       " 'pd_anom_part_a_1',\n",
       " 'prvdr_type.csv',\n",
       " 'Rndrng_Prvdr_Type_2modified.csv',\n",
       " 'Rndrng_Prvdr_Type_modified.csv',\n",
       " 'test2_anom.ipynb',\n",
       " 'text_anom.py',\n",
       " 'y_train_abod.txt']"
      ]
     },
     "execution_count": 2,
     "metadata": {},
     "output_type": "execute_result"
    }
   ],
   "source": [
    "os.listdir()"
   ]
  },
  {
   "cell_type": "markdown",
   "metadata": {
    "id": "lxsX915WozWP"
   },
   "source": [
    "## Exploring dataset.  \n"
   ]
  },
  {
   "cell_type": "markdown",
   "metadata": {},
   "source": [
    "## Read in Dataset"
   ]
  },
  {
   "cell_type": "code",
   "execution_count": 4,
   "metadata": {},
   "outputs": [
    {
     "data": {
      "text/plain": [
       "'/mnt/c/Users/John Olanipekun/Documents/Machine Learning/SMU_Machine_Learning/capstone2/MergedWithLabels.csv'"
      ]
     },
     "execution_count": 4,
     "metadata": {},
     "output_type": "execute_result"
    }
   ],
   "source": [
    "filename=os.path.join(os.getcwd(), 'MergedWithLabels.csv')\n",
    "filename"
   ]
  },
  {
   "cell_type": "markdown",
   "metadata": {},
   "source": [
    "### Trying PySpark"
   ]
  },
  {
   "cell_type": "code",
   "execution_count": 50,
   "metadata": {},
   "outputs": [],
   "source": [
    "import pyspark\n",
    "sc = pyspark.sql.SparkSession.builder.appName(\"MyApp\") \\\n",
    "            .master(\"local\")\\\n",
    "            .config(\"spark.jars.packages\", \"com.microsoft.azure:synapseml_2.12:0.9.5\") \\\n",
    "            .config(\"spark.jars.repositories\", \"https://mmlspark.azureedge.net/maven\") \\\n",
    "            .getOrCreate()\n"
   ]
  },
  {
   "cell_type": "code",
   "execution_count": 49,
   "metadata": {},
   "outputs": [],
   "source": [
    "#sc.stop()"
   ]
  },
  {
   "cell_type": "code",
   "execution_count": 5,
   "metadata": {},
   "outputs": [
    {
     "name": "stderr",
     "output_type": "stream",
     "text": [
      "22/02/25 10:21:05 WARN Utils: Your hostname, eagle-john resolves to a loopback address: 127.0.1.1; using 172.26.244.221 instead (on interface eth0)\n",
      "22/02/25 10:21:05 WARN Utils: Set SPARK_LOCAL_IP if you need to bind to another address\n",
      "WARNING: An illegal reflective access operation has occurred\n",
      "WARNING: Illegal reflective access by org.apache.spark.unsafe.Platform (file:/mnt/c/Users/John%20Olanipekun/Documents/Machine%20Learning/SMU_Machine_Learning/ubuntu_smu_venv/lib/python3.8/site-packages/pyspark/jars/spark-unsafe_2.12-3.2.1.jar) to constructor java.nio.DirectByteBuffer(long,int)\n",
      "WARNING: Please consider reporting this to the maintainers of org.apache.spark.unsafe.Platform\n",
      "WARNING: Use --illegal-access=warn to enable warnings of further illegal reflective access operations\n",
      "WARNING: All illegal access operations will be denied in a future release\n",
      "Using Spark's default log4j profile: org/apache/spark/log4j-defaults.properties\n",
      "Setting default log level to \"WARN\".\n",
      "To adjust logging level use sc.setLogLevel(newLevel). For SparkR, use setLogLevel(newLevel).\n",
      "22/02/25 10:21:07 WARN NativeCodeLoader: Unable to load native-hadoop library for your platform... using builtin-java classes where applicable\n"
     ]
    }
   ],
   "source": [
    "from pyspark.sql import SparkSession\n",
    "sc = SparkSession.builder.master(\"local\").appName(\"Test\").getOrCreate()"
   ]
  },
  {
   "cell_type": "code",
   "execution_count": 6,
   "metadata": {},
   "outputs": [],
   "source": [
    "raw_data = sc.read.options(delimiter=\",\",header=True).csv(filename)\n",
    "#raw_data=sc.read.csv(filename,header=True, inferSchema=True, sep='\\t')\n"
   ]
  },
  {
   "cell_type": "code",
   "execution_count": 7,
   "metadata": {},
   "outputs": [
    {
     "data": {
      "text/plain": [
       "pyspark.sql.dataframe.DataFrame"
      ]
     },
     "execution_count": 7,
     "metadata": {},
     "output_type": "execute_result"
    }
   ],
   "source": [
    "type(raw_data)"
   ]
  },
  {
   "cell_type": "code",
   "execution_count": 8,
   "metadata": {},
   "outputs": [
    {
     "name": "stdout",
     "output_type": "stream",
     "text": [
      "root\n",
      " |-- _c0: string (nullable = true)\n",
      " |-- Unnamed: 0: string (nullable = true)\n",
      " |-- Rndrng_NPI: string (nullable = true)\n",
      " |-- Rndrng_Prvdr_Type: string (nullable = true)\n",
      " |-- Rndrng_Prvdr_Gndr: string (nullable = true)\n",
      " |-- Year_x: string (nullable = true)\n",
      " |-- HCPCS_Cd_count_x: string (nullable = true)\n",
      " |-- HCPCS_Cd_nunique_x: string (nullable = true)\n",
      " |-- Place_Of_Srvc_count: string (nullable = true)\n",
      " |-- Place_Of_Srvc_nunique: string (nullable = true)\n",
      " |-- Tot_Benes_mean: string (nullable = true)\n",
      " |-- Tot_Benes_min: string (nullable = true)\n",
      " |-- Tot_Benes_max: string (nullable = true)\n",
      " |-- Tot_Benes_median: string (nullable = true)\n",
      " |-- Tot_Benes_std: string (nullable = true)\n",
      " |-- Tot_Srvcs_mean: string (nullable = true)\n",
      " |-- Tot_Srvcs_min: string (nullable = true)\n",
      " |-- Tot_Srvcs_max: string (nullable = true)\n",
      " |-- Tot_Srvcs_median: string (nullable = true)\n",
      " |-- Tot_Srvcs_std: string (nullable = true)\n",
      " |-- Tot_Bene_Day_Srvcs_mean: string (nullable = true)\n",
      " |-- Tot_Bene_Day_Srvcs_min: string (nullable = true)\n",
      " |-- Tot_Bene_Day_Srvcs_max: string (nullable = true)\n",
      " |-- Tot_Bene_Day_Srvcs_median: string (nullable = true)\n",
      " |-- Tot_Bene_Day_Srvcs_std: string (nullable = true)\n",
      " |-- Avg_Sbmtd_Chrg_mean: string (nullable = true)\n",
      " |-- Avg_Sbmtd_Chrg_min: string (nullable = true)\n",
      " |-- Avg_Sbmtd_Chrg_max: string (nullable = true)\n",
      " |-- Avg_Sbmtd_Chrg_median: string (nullable = true)\n",
      " |-- Avg_Sbmtd_Chrg_std: string (nullable = true)\n",
      " |-- Avg_Mdcr_Pymt_Amt_mean: string (nullable = true)\n",
      " |-- Avg_Mdcr_Pymt_Amt_min: string (nullable = true)\n",
      " |-- Avg_Mdcr_Pymt_Amt_max: string (nullable = true)\n",
      " |-- Avg_Mdcr_Pymt_Amt_median: string (nullable = true)\n",
      " |-- Avg_Mdcr_Pymt_Amt_std: string (nullable = true)\n",
      " |-- key: string (nullable = true)\n",
      " |-- Brnd_Name_count: string (nullable = true)\n",
      " |-- Brnd_Name_nunique: string (nullable = true)\n",
      " |-- Tot_Clms_min: string (nullable = true)\n",
      " |-- Tot_Clms_max: string (nullable = true)\n",
      " |-- Tot_Clms_mean: string (nullable = true)\n",
      " |-- Tot_Clms_median: string (nullable = true)\n",
      " |-- Tot_Clms_std: string (nullable = true)\n",
      " |-- Tot_30day_Fills_min: string (nullable = true)\n",
      " |-- Tot_30day_Fills_max: string (nullable = true)\n",
      " |-- Tot_30day_Fills_mean: string (nullable = true)\n",
      " |-- Tot_30day_Fills_median: string (nullable = true)\n",
      " |-- Tot_30day_Fills_std: string (nullable = true)\n",
      " |-- Tot_Day_Suply_min: string (nullable = true)\n",
      " |-- Tot_Day_Suply_max: string (nullable = true)\n",
      " |-- Tot_Day_Suply_mean: string (nullable = true)\n",
      " |-- Tot_Day_Suply_median: string (nullable = true)\n",
      " |-- Tot_Day_Suply_std: string (nullable = true)\n",
      " |-- Tot_Drug_Cst_min: string (nullable = true)\n",
      " |-- Tot_Drug_Cst_max: string (nullable = true)\n",
      " |-- Tot_Drug_Cst_mean: string (nullable = true)\n",
      " |-- Tot_Drug_Cst_median: string (nullable = true)\n",
      " |-- Tot_Drug_Cst_std: string (nullable = true)\n",
      " |-- Rfrg_Prvdr_Gndr: string (nullable = true)\n",
      " |-- BETOS_Cd_count: string (nullable = true)\n",
      " |-- BETOS_Cd_nunique: string (nullable = true)\n",
      " |-- HCPCS_Cd_count_y: string (nullable = true)\n",
      " |-- HCPCS_Cd_nunique_y: string (nullable = true)\n",
      " |-- Tot_Suplrs_min: string (nullable = true)\n",
      " |-- Tot_Suplrs_max: string (nullable = true)\n",
      " |-- Tot_Suplrs_mean: string (nullable = true)\n",
      " |-- Tot_Suplrs_median: string (nullable = true)\n",
      " |-- Tot_Suplrs_std: string (nullable = true)\n",
      " |-- Tot_Suplr_Benes_min: string (nullable = true)\n",
      " |-- Tot_Suplr_Benes_max: string (nullable = true)\n",
      " |-- Tot_Suplr_Benes_mean: string (nullable = true)\n",
      " |-- Tot_Suplr_Benes_median: string (nullable = true)\n",
      " |-- Tot_Suplr_Benes_std: string (nullable = true)\n",
      " |-- Tot_Suplr_Clms_min: string (nullable = true)\n",
      " |-- Tot_Suplr_Clms_max: string (nullable = true)\n",
      " |-- Tot_Suplr_Clms_mean: string (nullable = true)\n",
      " |-- Tot_Suplr_Clms_median: string (nullable = true)\n",
      " |-- Tot_Suplr_Clms_std: string (nullable = true)\n",
      " |-- Tot_Suplr_Srvcs_min: string (nullable = true)\n",
      " |-- Tot_Suplr_Srvcs_max: string (nullable = true)\n",
      " |-- Tot_Suplr_Srvcs_mean: string (nullable = true)\n",
      " |-- Tot_Suplr_Srvcs_median: string (nullable = true)\n",
      " |-- Tot_Suplr_Srvcs_std: string (nullable = true)\n",
      " |-- Avg_Suplr_Sbmtd_Chrg_min: string (nullable = true)\n",
      " |-- Avg_Suplr_Sbmtd_Chrg_max: string (nullable = true)\n",
      " |-- Avg_Suplr_Sbmtd_Chrg_mean: string (nullable = true)\n",
      " |-- Avg_Suplr_Sbmtd_Chrg_median: string (nullable = true)\n",
      " |-- Avg_Suplr_Sbmtd_Chrg_std: string (nullable = true)\n",
      " |-- Avg_Suplr_Mdcr_Pymt_Amt_min: string (nullable = true)\n",
      " |-- Avg_Suplr_Mdcr_Pymt_Amt_max: string (nullable = true)\n",
      " |-- Avg_Suplr_Mdcr_Pymt_Amt_mean: string (nullable = true)\n",
      " |-- Avg_Suplr_Mdcr_Pymt_Amt_median: string (nullable = true)\n",
      " |-- Avg_Suplr_Mdcr_Pymt_Amt_std: string (nullable = true)\n",
      " |-- HCPCS_CD_count: string (nullable = true)\n",
      " |-- HCPCS_CD_nunique: string (nullable = true)\n",
      " |-- key2: string (nullable = true)\n",
      " |-- NPI: string (nullable = true)\n",
      " |-- EXCLTYPE: string (nullable = true)\n",
      " |-- EXCLDATE: string (nullable = true)\n",
      " |-- EXCL Year: string (nullable = true)\n",
      "\n"
     ]
    }
   ],
   "source": [
    "raw_data.printSchema()"
   ]
  },
  {
   "cell_type": "code",
   "execution_count": 9,
   "metadata": {},
   "outputs": [
    {
     "name": "stderr",
     "output_type": "stream",
     "text": [
      "22/02/25 10:21:20 WARN package: Truncated the string representation of a plan since it was too large. This behavior can be adjusted by setting 'spark.sql.debug.maxToStringFields'.\n",
      "22/02/25 10:21:20 WARN CSVHeaderChecker: CSV header does not conform to the schema.\n",
      " Header: , Unnamed: 0, Rndrng_NPI, Rndrng_Prvdr_Type, Rndrng_Prvdr_Gndr, Year_x, HCPCS_Cd_count_x, HCPCS_Cd_nunique_x, Place_Of_Srvc_count, Place_Of_Srvc_nunique, Tot_Benes_mean, Tot_Benes_min, Tot_Benes_max, Tot_Benes_median, Tot_Benes_std, Tot_Srvcs_mean, Tot_Srvcs_min, Tot_Srvcs_max, Tot_Srvcs_median, Tot_Srvcs_std, Tot_Bene_Day_Srvcs_mean, Tot_Bene_Day_Srvcs_min, Tot_Bene_Day_Srvcs_max, Tot_Bene_Day_Srvcs_median, Tot_Bene_Day_Srvcs_std, Avg_Sbmtd_Chrg_mean, Avg_Sbmtd_Chrg_min, Avg_Sbmtd_Chrg_max, Avg_Sbmtd_Chrg_median, Avg_Sbmtd_Chrg_std, Avg_Mdcr_Pymt_Amt_mean, Avg_Mdcr_Pymt_Amt_min, Avg_Mdcr_Pymt_Amt_max, Avg_Mdcr_Pymt_Amt_median, Avg_Mdcr_Pymt_Amt_std, key, Brnd_Name_count, Brnd_Name_nunique, Tot_Clms_min, Tot_Clms_max, Tot_Clms_mean, Tot_Clms_median, Tot_Clms_std, Tot_30day_Fills_min, Tot_30day_Fills_max, Tot_30day_Fills_mean, Tot_30day_Fills_median, Tot_30day_Fills_std, Tot_Day_Suply_min, Tot_Day_Suply_max, Tot_Day_Suply_mean, Tot_Day_Suply_median, Tot_Day_Suply_std, Tot_Drug_Cst_min, Tot_Drug_Cst_max, Tot_Drug_Cst_mean, Tot_Drug_Cst_median, Tot_Drug_Cst_std, Rfrg_Prvdr_Gndr, BETOS_Cd_count, BETOS_Cd_nunique, HCPCS_Cd_count_y, HCPCS_Cd_nunique_y, Tot_Suplrs_min, Tot_Suplrs_max, Tot_Suplrs_mean, Tot_Suplrs_median, Tot_Suplrs_std, Tot_Suplr_Benes_min, Tot_Suplr_Benes_max, Tot_Suplr_Benes_mean, Tot_Suplr_Benes_median, Tot_Suplr_Benes_std, Tot_Suplr_Clms_min, Tot_Suplr_Clms_max, Tot_Suplr_Clms_mean, Tot_Suplr_Clms_median, Tot_Suplr_Clms_std, Tot_Suplr_Srvcs_min, Tot_Suplr_Srvcs_max, Tot_Suplr_Srvcs_mean, Tot_Suplr_Srvcs_median, Tot_Suplr_Srvcs_std, Avg_Suplr_Sbmtd_Chrg_min, Avg_Suplr_Sbmtd_Chrg_max, Avg_Suplr_Sbmtd_Chrg_mean, Avg_Suplr_Sbmtd_Chrg_median, Avg_Suplr_Sbmtd_Chrg_std, Avg_Suplr_Mdcr_Pymt_Amt_min, Avg_Suplr_Mdcr_Pymt_Amt_max, Avg_Suplr_Mdcr_Pymt_Amt_mean, Avg_Suplr_Mdcr_Pymt_Amt_median, Avg_Suplr_Mdcr_Pymt_Amt_std, HCPCS_CD_count, HCPCS_CD_nunique, key2, NPI, EXCLTYPE, EXCLDATE, EXCL Year\n",
      " Schema: _c0, Unnamed: 0, Rndrng_NPI, Rndrng_Prvdr_Type, Rndrng_Prvdr_Gndr, Year_x, HCPCS_Cd_count_x, HCPCS_Cd_nunique_x, Place_Of_Srvc_count, Place_Of_Srvc_nunique, Tot_Benes_mean, Tot_Benes_min, Tot_Benes_max, Tot_Benes_median, Tot_Benes_std, Tot_Srvcs_mean, Tot_Srvcs_min, Tot_Srvcs_max, Tot_Srvcs_median, Tot_Srvcs_std, Tot_Bene_Day_Srvcs_mean, Tot_Bene_Day_Srvcs_min, Tot_Bene_Day_Srvcs_max, Tot_Bene_Day_Srvcs_median, Tot_Bene_Day_Srvcs_std, Avg_Sbmtd_Chrg_mean, Avg_Sbmtd_Chrg_min, Avg_Sbmtd_Chrg_max, Avg_Sbmtd_Chrg_median, Avg_Sbmtd_Chrg_std, Avg_Mdcr_Pymt_Amt_mean, Avg_Mdcr_Pymt_Amt_min, Avg_Mdcr_Pymt_Amt_max, Avg_Mdcr_Pymt_Amt_median, Avg_Mdcr_Pymt_Amt_std, key, Brnd_Name_count, Brnd_Name_nunique, Tot_Clms_min, Tot_Clms_max, Tot_Clms_mean, Tot_Clms_median, Tot_Clms_std, Tot_30day_Fills_min, Tot_30day_Fills_max, Tot_30day_Fills_mean, Tot_30day_Fills_median, Tot_30day_Fills_std, Tot_Day_Suply_min, Tot_Day_Suply_max, Tot_Day_Suply_mean, Tot_Day_Suply_median, Tot_Day_Suply_std, Tot_Drug_Cst_min, Tot_Drug_Cst_max, Tot_Drug_Cst_mean, Tot_Drug_Cst_median, Tot_Drug_Cst_std, Rfrg_Prvdr_Gndr, BETOS_Cd_count, BETOS_Cd_nunique, HCPCS_Cd_count_y, HCPCS_Cd_nunique_y, Tot_Suplrs_min, Tot_Suplrs_max, Tot_Suplrs_mean, Tot_Suplrs_median, Tot_Suplrs_std, Tot_Suplr_Benes_min, Tot_Suplr_Benes_max, Tot_Suplr_Benes_mean, Tot_Suplr_Benes_median, Tot_Suplr_Benes_std, Tot_Suplr_Clms_min, Tot_Suplr_Clms_max, Tot_Suplr_Clms_mean, Tot_Suplr_Clms_median, Tot_Suplr_Clms_std, Tot_Suplr_Srvcs_min, Tot_Suplr_Srvcs_max, Tot_Suplr_Srvcs_mean, Tot_Suplr_Srvcs_median, Tot_Suplr_Srvcs_std, Avg_Suplr_Sbmtd_Chrg_min, Avg_Suplr_Sbmtd_Chrg_max, Avg_Suplr_Sbmtd_Chrg_mean, Avg_Suplr_Sbmtd_Chrg_median, Avg_Suplr_Sbmtd_Chrg_std, Avg_Suplr_Mdcr_Pymt_Amt_min, Avg_Suplr_Mdcr_Pymt_Amt_max, Avg_Suplr_Mdcr_Pymt_Amt_mean, Avg_Suplr_Mdcr_Pymt_Amt_median, Avg_Suplr_Mdcr_Pymt_Amt_std, HCPCS_CD_count, HCPCS_CD_nunique, key2, NPI, EXCLTYPE, EXCLDATE, EXCL Year\n",
      "Expected: _c0 but found: \n",
      "CSV file: file:///mnt/c/Users/John%20Olanipekun/Documents/Machine%20Learning/SMU_Machine_Learning/capstone2/MergedWithLabels.csv\n"
     ]
    },
    {
     "name": "stdout",
     "output_type": "stream",
     "text": [
      "+---+----------+----------+--------------------+-----------------+------+----------------+------------------+-------------------+---------------------+------------------+-------------+-------------+----------------+------------------+------------------+-------------+-------------+----------------+------------------+-----------------------+----------------------+----------------------+-------------------------+----------------------+-------------------+------------------+------------------+---------------------+------------------+----------------------+---------------------+---------------------+------------------------+---------------------+--------------------+---------------+-----------------+------------+------------+------------------+---------------+------------------+-------------------+-------------------+--------------------+----------------------+-------------------+-----------------+-----------------+------------------+--------------------+------------------+----------------+----------------+------------------+-------------------+------------------+---------------+--------------+----------------+----------------+------------------+--------------+--------------+-----------------+-----------------+-----------------+-------------------+-------------------+--------------------+----------------------+-------------------+------------------+------------------+-------------------+---------------------+------------------+-------------------+-------------------+--------------------+----------------------+-------------------+------------------------+------------------------+-------------------------+---------------------------+------------------------+---------------------------+---------------------------+----------------------------+------------------------------+---------------------------+--------------+----------------+---------------+----+--------+--------+---------+\n",
      "|_c0|Unnamed: 0|Rndrng_NPI|   Rndrng_Prvdr_Type|Rndrng_Prvdr_Gndr|Year_x|HCPCS_Cd_count_x|HCPCS_Cd_nunique_x|Place_Of_Srvc_count|Place_Of_Srvc_nunique|    Tot_Benes_mean|Tot_Benes_min|Tot_Benes_max|Tot_Benes_median|     Tot_Benes_std|    Tot_Srvcs_mean|Tot_Srvcs_min|Tot_Srvcs_max|Tot_Srvcs_median|     Tot_Srvcs_std|Tot_Bene_Day_Srvcs_mean|Tot_Bene_Day_Srvcs_min|Tot_Bene_Day_Srvcs_max|Tot_Bene_Day_Srvcs_median|Tot_Bene_Day_Srvcs_std|Avg_Sbmtd_Chrg_mean|Avg_Sbmtd_Chrg_min|Avg_Sbmtd_Chrg_max|Avg_Sbmtd_Chrg_median|Avg_Sbmtd_Chrg_std|Avg_Mdcr_Pymt_Amt_mean|Avg_Mdcr_Pymt_Amt_min|Avg_Mdcr_Pymt_Amt_max|Avg_Mdcr_Pymt_Amt_median|Avg_Mdcr_Pymt_Amt_std|                 key|Brnd_Name_count|Brnd_Name_nunique|Tot_Clms_min|Tot_Clms_max|     Tot_Clms_mean|Tot_Clms_median|      Tot_Clms_std|Tot_30day_Fills_min|Tot_30day_Fills_max|Tot_30day_Fills_mean|Tot_30day_Fills_median|Tot_30day_Fills_std|Tot_Day_Suply_min|Tot_Day_Suply_max|Tot_Day_Suply_mean|Tot_Day_Suply_median| Tot_Day_Suply_std|Tot_Drug_Cst_min|Tot_Drug_Cst_max| Tot_Drug_Cst_mean|Tot_Drug_Cst_median|  Tot_Drug_Cst_std|Rfrg_Prvdr_Gndr|BETOS_Cd_count|BETOS_Cd_nunique|HCPCS_Cd_count_y|HCPCS_Cd_nunique_y|Tot_Suplrs_min|Tot_Suplrs_max|  Tot_Suplrs_mean|Tot_Suplrs_median|   Tot_Suplrs_std|Tot_Suplr_Benes_min|Tot_Suplr_Benes_max|Tot_Suplr_Benes_mean|Tot_Suplr_Benes_median|Tot_Suplr_Benes_std|Tot_Suplr_Clms_min|Tot_Suplr_Clms_max|Tot_Suplr_Clms_mean|Tot_Suplr_Clms_median|Tot_Suplr_Clms_std|Tot_Suplr_Srvcs_min|Tot_Suplr_Srvcs_max|Tot_Suplr_Srvcs_mean|Tot_Suplr_Srvcs_median|Tot_Suplr_Srvcs_std|Avg_Suplr_Sbmtd_Chrg_min|Avg_Suplr_Sbmtd_Chrg_max|Avg_Suplr_Sbmtd_Chrg_mean|Avg_Suplr_Sbmtd_Chrg_median|Avg_Suplr_Sbmtd_Chrg_std|Avg_Suplr_Mdcr_Pymt_Amt_min|Avg_Suplr_Mdcr_Pymt_Amt_max|Avg_Suplr_Mdcr_Pymt_Amt_mean|Avg_Suplr_Mdcr_Pymt_Amt_median|Avg_Suplr_Mdcr_Pymt_Amt_std|HCPCS_CD_count|HCPCS_CD_nunique|           key2| NPI|EXCLTYPE|EXCLDATE|EXCL Year|\n",
      "+---+----------+----------+--------------------+-----------------+------+----------------+------------------+-------------------+---------------------+------------------+-------------+-------------+----------------+------------------+------------------+-------------+-------------+----------------+------------------+-----------------------+----------------------+----------------------+-------------------------+----------------------+-------------------+------------------+------------------+---------------------+------------------+----------------------+---------------------+---------------------+------------------------+---------------------+--------------------+---------------+-----------------+------------+------------+------------------+---------------+------------------+-------------------+-------------------+--------------------+----------------------+-------------------+-----------------+-----------------+------------------+--------------------+------------------+----------------+----------------+------------------+-------------------+------------------+---------------+--------------+----------------+----------------+------------------+--------------+--------------+-----------------+-----------------+-----------------+-------------------+-------------------+--------------------+----------------------+-------------------+------------------+------------------+-------------------+---------------------+------------------+-------------------+-------------------+--------------------+----------------------+-------------------+------------------------+------------------------+-------------------------+---------------------------+------------------------+---------------------------+---------------------------+----------------------------+------------------------------+---------------------------+--------------+----------------+---------------+----+--------+--------+---------+\n",
      "|  0|         0|1003000126|   Internal Medicine|                M|  2013|               7|                 7|                  7|                    1|158.85714285714286|           47|          381|           137.0|109.58927650007332|229.57142857142856|         61.0|        777.0|           142.0|246.62174623152302|     229.57142857142856|                    61|                   777|                    142.0|    246.62174623152302|  270.9482206485714|              97.0|      524.60416667|         245.83098592|139.41084016301429|     80.61160942628571|   30.065245901999997|         155.90114583|            80.641235294|    40.95322879532682|1003000126_Intern...|            7.0|              7.0|        11.0|        30.0|18.285714285714285|           17.0| 7.341986237031633|               11.0|               31.0|                18.8|                  17.0|  7.244308110509932|            133.0|            916.0|414.57142857142856|               324.0|271.47059825013406|           44.72|           227.1|137.99142857142857|             154.65| 59.87025066162421|              M|           2.0|             1.0|             2.0|               2.0|           4.0|           4.0|              4.0|              4.0|              0.0|                0.0|                0.0|                 0.0|                   0.0|                0.0|              23.0|              27.0|               25.0|                 25.0|2.8284271247461903|               24.0|               28.0|                26.0|                  26.0| 2.8284271247461903|            52.816666667|            344.28928571|           198.5529761885|             198.5529761885|      206.10226545550853|         23.320416666999996|               139.35321429|               81.3368154785|                 81.3368154785|          82.04757803926962|           0.0|             0.0|1003000126_2013|null|    null|    null|     null|\n",
      "|  1|         1|1003000134|           Pathology|                M|  2013|               7|                 7|                  7|                    1| 691.5714285714287|           46|         3770|           201.0|1363.9965612301296|1071.2857142857142|         48.0|       5785.0|           209.0|2093.7328478330846|      820.4285714285713|                    47|                  4631|                    204.0|    1686.1659524043357| 146.88392857142858|              68.0|          265.1875|                147.0| 65.86247141862387|     28.60099942882857|         9.3274641148|            61.946875|            29.284649957|   17.995699705972463|1003000134_Pathol...|            0.0|              0.0|         0.0|         0.0|               0.0|            0.0|               0.0|                0.0|                0.0|                 0.0|                   0.0|                0.0|              0.0|              0.0|               0.0|                 0.0|               0.0|             0.0|             0.0|               0.0|                0.0|               0.0|              0|           0.0|             0.0|             0.0|               0.0|           0.0|           0.0|              0.0|              0.0|              0.0|                0.0|                0.0|                 0.0|                   0.0|                0.0|               0.0|               0.0|                0.0|                  0.0|               0.0|                0.0|                0.0|                 0.0|                   0.0|                0.0|                     0.0|                     0.0|                      0.0|                        0.0|                     0.0|                        0.0|                        0.0|                         0.0|                           0.0|                        0.0|           0.0|             0.0|1003000134_2013|null|    null|    null|     null|\n",
      "|  2|         2|1003000142|      Anesthesiology|                M|  2013|               8|                 8|                  8|                    2|              31.0|           12|           70|            21.0|24.680819620564808|            54.375|         16.0|        169.0|            39.0| 50.83569471486405|                 54.375|                    16|                   169|                     39.0|     50.83569471486405|     431.2304182125|      166.28402367|            1105.0|         302.43181818|328.19167398543664|        75.33732442425|         24.279322034|         122.98157143|           74.1285249365|   30.154601199152733|1003000142_Anesth...|           12.0|             12.0|        11.0|       100.0|33.916666666666664|           21.0| 31.23069100429993|               11.0|              108.9|               34.95|                  21.0|  32.83350561406885|            263.0|           3194.0|             981.5|               581.5| 934.7187715126843|          133.67|         5454.94|          1091.415|            480.015|1508.4109123511405|              0|           0.0|             0.0|             0.0|               0.0|           0.0|           0.0|              0.0|              0.0|              0.0|                0.0|                0.0|                 0.0|                   0.0|                0.0|               0.0|               0.0|                0.0|                  0.0|               0.0|                0.0|                0.0|                 0.0|                   0.0|                0.0|                     0.0|                     0.0|                      0.0|                        0.0|                     0.0|                        0.0|                        0.0|                         0.0|                           0.0|                        0.0|           0.0|             0.0|1003000142_2013|null|    null|    null|     null|\n",
      "|  3|         3|1003000407|     Family Practice|                M|  2013|              21|                21|                 21|                    1| 49.28571428571429|           11|          181|            35.0| 49.29517507539948| 75.14285714285714|         13.0|        367.0|            35.0| 95.08853017808495|      75.04761904761905|                    13|                   367|                     35.0|     95.14435148261623|  169.7547874932381|      54.894117647|             510.0|                140.0|110.95589707439821|     81.14810140457142|   29.476235294000002|         162.68578947|            77.750108992|    39.05157975609728|1003000407_Family...|           11.0|             11.0|        11.0|        43.0|18.727272727272727|           14.0|10.450750299293436|               11.0|               43.3|   19.11818181818182|                  14.0| 10.331197237669812|             73.0|            631.0|271.27272727272725|               172.0|191.77282962353704|           50.32|         3282.42| 550.0027272727274|             233.99| 927.4374086814798|              M|           3.0|             2.0|             3.0|               3.0|           3.0|           7.0|5.666666666666668|              7.0|2.309401076758503|               11.0|               12.0|                11.5|                  11.5| 0.7071067811865476|              11.0|              23.0| 15.333333333333336|                 12.0|6.6583281184793925|               11.0|             2671.0|   901.6666666666664|                  23.0|  1532.299361526113|            0.3101422688|                    57.0|       29.946859017266675|         32.530434783000004|      28.433099377290677|       0.033148633500000003|               36.895454545|               15.9824329435|                  11.018695652|          18.92581346210838|           0.0|             0.0|1003000407_2013|null|    null|    null|     null|\n",
      "|  4|         4|1003000423|Obstetrics/Gyneco...|                F|  2013|               4|                 4|                  4|                    1|              22.5|           16|           29|            22.5| 5.686240703077327|             24.75|         18.0|         32.0|            24.5| 6.800735254367722|                  24.75|                    18|                    32|                     24.5|     6.800735254367722|               55.0|              10.0|              90.0|                 60.0|36.968455021364726|       32.626917205425|         3.1966666667|           51.4103125|           37.9503448275|   20.664591884312962|1003000423_Obstet...|            4.0|              4.0|        14.0|        15.0|             14.25|           14.0|0.5000000000000001|               14.0|               15.0|               14.25|                  14.0| 0.5000000000000001|             86.0|            392.0|             176.5|               114.0|144.50259513240584|          182.05|          409.23|           270.265|             244.89|105.28961249809973|              0|           0.0|             0.0|             0.0|               0.0|           0.0|           0.0|              0.0|              0.0|              0.0|                0.0|                0.0|                 0.0|                   0.0|                0.0|               0.0|               0.0|                0.0|                  0.0|               0.0|                0.0|                0.0|                 0.0|                   0.0|                0.0|                     0.0|                     0.0|                      0.0|                        0.0|                     0.0|                        0.0|                        0.0|                         0.0|                           0.0|                        0.0|           0.0|             0.0|1003000423_2013|null|    null|    null|     null|\n",
      "|  5|         5|1003000480|     General Surgery|                M|  2013|               8|                 8|                  8|                    1|              15.5|           11|           22|            15.0| 4.105745103771405|             16.25|         11.0|         22.0|            16.5| 3.991061441342569|                  16.25|                    11|                    22|                     16.5|     3.991061441342569|    347.58322321125|              97.0|      751.36363636|             277.6375| 228.0286607338886|     65.89018738587501|   17.101052632000002|         155.00272727|                  55.246|    47.45426577311123|1003000480_Genera...|            0.0|              0.0|         0.0|         0.0|               0.0|            0.0|               0.0|                0.0|                0.0|                 0.0|                   0.0|                0.0|              0.0|              0.0|               0.0|                 0.0|               0.0|             0.0|             0.0|               0.0|                0.0|               0.0|              0|           0.0|             0.0|             0.0|               0.0|           0.0|           0.0|              0.0|              0.0|              0.0|                0.0|                0.0|                 0.0|                   0.0|                0.0|               0.0|               0.0|                0.0|                  0.0|               0.0|                0.0|                0.0|                 0.0|                   0.0|                0.0|                     0.0|                     0.0|                      0.0|                        0.0|                     0.0|                        0.0|                        0.0|                         0.0|                           0.0|                        0.0|           0.0|             0.0|1003000480_2013|null|    null|    null|     null|\n",
      "|  6|         6|1003000522|     Family Practice|                M|  2013|              17|                17|                 17|                    2| 62.70588235294117|           12|          410|            31.0| 103.0847737943645|110.52941176470587|         13.0|        888.0|            32.0| 224.3580056647909|     110.52941176470587|                    13|                   888|                     32.0|     224.3580056647909|       114.39028463|              10.0|             398.0|                 90.0|100.22777989493451|     52.44611687722941|    5.079629629599999|         155.48736842|                  39.425|    39.34688832057795|1003000522_Family...|          109.0|            108.0|        11.0|       254.0|  42.8348623853211|           26.0| 44.84159646311132|               11.0|              653.0|   88.47798165137615|                  52.0| 106.97139489376673|             85.0|          19577.0| 2560.091743119266|              1530.0| 3244.216670680317|           73.46|        30556.73| 2082.137522935781|             773.52| 4176.725281665526|              M|          10.0|             4.0|            10.0|              10.0|           1.0|          27.0|              9.3|              7.0| 8.55115326854935|               19.0|               41.0|                26.6|                  23.0|  9.126883367283707|              11.0|              96.0|               31.8|                 20.0|27.369082313199076|               11.0|             2201.0|               379.3|                  33.0|  728.0528140183238|            0.8250658791|            68.718947368|       32.838490312779996|               34.564236111|       24.45311167029459|               0.0394411631|         45.540526316000005|              13.98817862647|                     10.966875|         13.813872487021973|           0.0|             0.0|1003000522_2013|null|    null|    null|     null|\n",
      "|  7|         7|1003000530|   Internal Medicine|                F|  2013|              10|                10|                 10|                    1|              66.2|           11|          226|            22.5| 73.28301303849344|             101.5|         11.0|        505.0|            23.5|155.40931618006545|                  101.5|                    11|                   505|                     23.5|    155.40931618006545|               86.7|               9.0|             286.0|                 75.0| 81.87395461588774|    41.725548103609995|         3.4582352941|         123.27916667|           28.8364285715|    36.15100003352653|1003000530_Intern...|          120.0|            120.0|        11.0|       370.0| 47.89166666666666|           22.0| 66.05991625043137|               11.0|              569.3|   64.48583333333333|                  28.0|  97.21581578959184|             77.0|          17049.0|1864.6333333333328|               792.0|2928.7019292642585|           56.81|        18061.09|        1883.17025|            615.275| 3122.966539287339|              F|           2.0|             1.0|             2.0|               2.0|          10.0|          16.0|             13.0|             13.0|4.242640687119285|               18.0|               18.0|                18.0|                  18.0|                0.0|              19.0|              41.0|               30.0|                 30.0|15.556349186104045|               24.0|              100.0|                62.0|                  62.0|  53.74011537017761|            16.555416667|                 55.2819|            35.9186583335|              35.9186583335|      27.383758976272112|                    5.22375|                    19.7277|                   12.475725|                     12.475725|         10.255841398990627|           0.0|             0.0|1003000530_2013|null|    null|    null|     null|\n",
      "|  8|         8|1003000605|Occupational ther...|                F|  2013|               2|                 2|                  2|                    1|              12.5|           12|           13|            12.5|0.7071067811865476|             141.5|         12.0|        271.0|           141.5|183.14065632731584|                   65.5|                    12|                   119|                     65.5|      75.6604255869606|               94.0|              54.0|             134.0|                 94.0| 56.56854249492381|         43.5263560885|   23.317712176999997|               63.735|           43.5263560885|    28.57933829681177|1003000605_Occupa...|            0.0|              0.0|         0.0|         0.0|               0.0|            0.0|               0.0|                0.0|                0.0|                 0.0|                   0.0|                0.0|              0.0|              0.0|               0.0|                 0.0|               0.0|             0.0|             0.0|               0.0|                0.0|               0.0|              0|           0.0|             0.0|             0.0|               0.0|           0.0|           0.0|              0.0|              0.0|              0.0|                0.0|                0.0|                 0.0|                   0.0|                0.0|               0.0|               0.0|                0.0|                  0.0|               0.0|                0.0|                0.0|                 0.0|                   0.0|                0.0|                     0.0|                     0.0|                      0.0|                        0.0|                     0.0|                        0.0|                        0.0|                         0.0|                           0.0|                        0.0|           0.0|             0.0|1003000605_2013|null|    null|    null|     null|\n",
      "|  9|         9|1003000621|        Chiropractic|                M|  2013|               1|                 1|                  1|                    1|              37.0|           37|           37|            37.0|               0.0|              84.0|         84.0|         84.0|            84.0|               0.0|                   84.0|                    84|                    84|                     84.0|                   0.0|               40.0|              40.0|              40.0|                 40.0|               0.0|          11.385357143|         11.385357143|         11.385357143|            11.385357143|                  0.0|1003000621_Chirop...|            0.0|              0.0|         0.0|         0.0|               0.0|            0.0|               0.0|                0.0|                0.0|                 0.0|                   0.0|                0.0|              0.0|              0.0|               0.0|                 0.0|               0.0|             0.0|             0.0|               0.0|                0.0|               0.0|              0|           0.0|             0.0|             0.0|               0.0|           0.0|           0.0|              0.0|              0.0|              0.0|                0.0|                0.0|                 0.0|                   0.0|                0.0|               0.0|               0.0|                0.0|                  0.0|               0.0|                0.0|                0.0|                 0.0|                   0.0|                0.0|                     0.0|                     0.0|                      0.0|                        0.0|                     0.0|                        0.0|                        0.0|                         0.0|                           0.0|                        0.0|           0.0|             0.0|1003000621_2013|null|    null|    null|     null|\n",
      "+---+----------+----------+--------------------+-----------------+------+----------------+------------------+-------------------+---------------------+------------------+-------------+-------------+----------------+------------------+------------------+-------------+-------------+----------------+------------------+-----------------------+----------------------+----------------------+-------------------------+----------------------+-------------------+------------------+------------------+---------------------+------------------+----------------------+---------------------+---------------------+------------------------+---------------------+--------------------+---------------+-----------------+------------+------------+------------------+---------------+------------------+-------------------+-------------------+--------------------+----------------------+-------------------+-----------------+-----------------+------------------+--------------------+------------------+----------------+----------------+------------------+-------------------+------------------+---------------+--------------+----------------+----------------+------------------+--------------+--------------+-----------------+-----------------+-----------------+-------------------+-------------------+--------------------+----------------------+-------------------+------------------+------------------+-------------------+---------------------+------------------+-------------------+-------------------+--------------------+----------------------+-------------------+------------------------+------------------------+-------------------------+---------------------------+------------------------+---------------------------+---------------------------+----------------------------+------------------------------+---------------------------+--------------+----------------+---------------+----+--------+--------+---------+\n",
      "only showing top 10 rows\n",
      "\n"
     ]
    }
   ],
   "source": [
    "raw_data.show(n=10)"
   ]
  },
  {
   "cell_type": "code",
   "execution_count": 10,
   "metadata": {},
   "outputs": [
    {
     "data": {
      "text/plain": [
       "['_c0',\n",
       " 'Unnamed: 0',\n",
       " 'Rndrng_NPI',\n",
       " 'Rndrng_Prvdr_Type',\n",
       " 'Rndrng_Prvdr_Gndr',\n",
       " 'Year_x',\n",
       " 'HCPCS_Cd_count_x',\n",
       " 'HCPCS_Cd_nunique_x',\n",
       " 'Place_Of_Srvc_count',\n",
       " 'Place_Of_Srvc_nunique',\n",
       " 'Tot_Benes_mean',\n",
       " 'Tot_Benes_min',\n",
       " 'Tot_Benes_max',\n",
       " 'Tot_Benes_median',\n",
       " 'Tot_Benes_std',\n",
       " 'Tot_Srvcs_mean',\n",
       " 'Tot_Srvcs_min',\n",
       " 'Tot_Srvcs_max',\n",
       " 'Tot_Srvcs_median',\n",
       " 'Tot_Srvcs_std',\n",
       " 'Tot_Bene_Day_Srvcs_mean',\n",
       " 'Tot_Bene_Day_Srvcs_min',\n",
       " 'Tot_Bene_Day_Srvcs_max',\n",
       " 'Tot_Bene_Day_Srvcs_median',\n",
       " 'Tot_Bene_Day_Srvcs_std',\n",
       " 'Avg_Sbmtd_Chrg_mean',\n",
       " 'Avg_Sbmtd_Chrg_min',\n",
       " 'Avg_Sbmtd_Chrg_max',\n",
       " 'Avg_Sbmtd_Chrg_median',\n",
       " 'Avg_Sbmtd_Chrg_std',\n",
       " 'Avg_Mdcr_Pymt_Amt_mean',\n",
       " 'Avg_Mdcr_Pymt_Amt_min',\n",
       " 'Avg_Mdcr_Pymt_Amt_max',\n",
       " 'Avg_Mdcr_Pymt_Amt_median',\n",
       " 'Avg_Mdcr_Pymt_Amt_std',\n",
       " 'key',\n",
       " 'Brnd_Name_count',\n",
       " 'Brnd_Name_nunique',\n",
       " 'Tot_Clms_min',\n",
       " 'Tot_Clms_max',\n",
       " 'Tot_Clms_mean',\n",
       " 'Tot_Clms_median',\n",
       " 'Tot_Clms_std',\n",
       " 'Tot_30day_Fills_min',\n",
       " 'Tot_30day_Fills_max',\n",
       " 'Tot_30day_Fills_mean',\n",
       " 'Tot_30day_Fills_median',\n",
       " 'Tot_30day_Fills_std',\n",
       " 'Tot_Day_Suply_min',\n",
       " 'Tot_Day_Suply_max',\n",
       " 'Tot_Day_Suply_mean',\n",
       " 'Tot_Day_Suply_median',\n",
       " 'Tot_Day_Suply_std',\n",
       " 'Tot_Drug_Cst_min',\n",
       " 'Tot_Drug_Cst_max',\n",
       " 'Tot_Drug_Cst_mean',\n",
       " 'Tot_Drug_Cst_median',\n",
       " 'Tot_Drug_Cst_std',\n",
       " 'Rfrg_Prvdr_Gndr',\n",
       " 'BETOS_Cd_count',\n",
       " 'BETOS_Cd_nunique',\n",
       " 'HCPCS_Cd_count_y',\n",
       " 'HCPCS_Cd_nunique_y',\n",
       " 'Tot_Suplrs_min',\n",
       " 'Tot_Suplrs_max',\n",
       " 'Tot_Suplrs_mean',\n",
       " 'Tot_Suplrs_median',\n",
       " 'Tot_Suplrs_std',\n",
       " 'Tot_Suplr_Benes_min',\n",
       " 'Tot_Suplr_Benes_max',\n",
       " 'Tot_Suplr_Benes_mean',\n",
       " 'Tot_Suplr_Benes_median',\n",
       " 'Tot_Suplr_Benes_std',\n",
       " 'Tot_Suplr_Clms_min',\n",
       " 'Tot_Suplr_Clms_max',\n",
       " 'Tot_Suplr_Clms_mean',\n",
       " 'Tot_Suplr_Clms_median',\n",
       " 'Tot_Suplr_Clms_std',\n",
       " 'Tot_Suplr_Srvcs_min',\n",
       " 'Tot_Suplr_Srvcs_max',\n",
       " 'Tot_Suplr_Srvcs_mean',\n",
       " 'Tot_Suplr_Srvcs_median',\n",
       " 'Tot_Suplr_Srvcs_std',\n",
       " 'Avg_Suplr_Sbmtd_Chrg_min',\n",
       " 'Avg_Suplr_Sbmtd_Chrg_max',\n",
       " 'Avg_Suplr_Sbmtd_Chrg_mean',\n",
       " 'Avg_Suplr_Sbmtd_Chrg_median',\n",
       " 'Avg_Suplr_Sbmtd_Chrg_std',\n",
       " 'Avg_Suplr_Mdcr_Pymt_Amt_min',\n",
       " 'Avg_Suplr_Mdcr_Pymt_Amt_max',\n",
       " 'Avg_Suplr_Mdcr_Pymt_Amt_mean',\n",
       " 'Avg_Suplr_Mdcr_Pymt_Amt_median',\n",
       " 'Avg_Suplr_Mdcr_Pymt_Amt_std',\n",
       " 'HCPCS_CD_count',\n",
       " 'HCPCS_CD_nunique',\n",
       " 'key2',\n",
       " 'NPI',\n",
       " 'EXCLTYPE',\n",
       " 'EXCLDATE',\n",
       " 'EXCL Year']"
      ]
     },
     "execution_count": 10,
     "metadata": {},
     "output_type": "execute_result"
    }
   ],
   "source": [
    "raw_data.columns"
   ]
  },
  {
   "cell_type": "code",
   "execution_count": 11,
   "metadata": {},
   "outputs": [],
   "source": [
    "from pyspark.sql.functions import col\n"
   ]
  },
  {
   "cell_type": "markdown",
   "metadata": {},
   "source": [
    "## Explore the dataset"
   ]
  },
  {
   "cell_type": "markdown",
   "metadata": {},
   "source": [
    "## Break the dataset in to three parts.\n"
   ]
  },
  {
   "cell_type": "markdown",
   "metadata": {},
   "source": [
    "## Merge provider types with similar names  \n"
   ]
  },
  {
   "cell_type": "code",
   "execution_count": 12,
   "metadata": {},
   "outputs": [],
   "source": [
    "raw_data=raw_data.withColumn('Rndrng_Prvdr_Type_2', raw_data['Rndrng_Prvdr_Type'])"
   ]
  },
  {
   "cell_type": "code",
   "execution_count": 13,
   "metadata": {},
   "outputs": [
    {
     "data": {
      "text/plain": [
       "['_c0',\n",
       " 'Unnamed: 0',\n",
       " 'Rndrng_NPI',\n",
       " 'Rndrng_Prvdr_Type',\n",
       " 'Rndrng_Prvdr_Gndr',\n",
       " 'Year_x',\n",
       " 'HCPCS_Cd_count_x',\n",
       " 'HCPCS_Cd_nunique_x',\n",
       " 'Place_Of_Srvc_count',\n",
       " 'Place_Of_Srvc_nunique',\n",
       " 'Tot_Benes_mean',\n",
       " 'Tot_Benes_min',\n",
       " 'Tot_Benes_max',\n",
       " 'Tot_Benes_median',\n",
       " 'Tot_Benes_std',\n",
       " 'Tot_Srvcs_mean',\n",
       " 'Tot_Srvcs_min',\n",
       " 'Tot_Srvcs_max',\n",
       " 'Tot_Srvcs_median',\n",
       " 'Tot_Srvcs_std',\n",
       " 'Tot_Bene_Day_Srvcs_mean',\n",
       " 'Tot_Bene_Day_Srvcs_min',\n",
       " 'Tot_Bene_Day_Srvcs_max',\n",
       " 'Tot_Bene_Day_Srvcs_median',\n",
       " 'Tot_Bene_Day_Srvcs_std',\n",
       " 'Avg_Sbmtd_Chrg_mean',\n",
       " 'Avg_Sbmtd_Chrg_min',\n",
       " 'Avg_Sbmtd_Chrg_max',\n",
       " 'Avg_Sbmtd_Chrg_median',\n",
       " 'Avg_Sbmtd_Chrg_std',\n",
       " 'Avg_Mdcr_Pymt_Amt_mean',\n",
       " 'Avg_Mdcr_Pymt_Amt_min',\n",
       " 'Avg_Mdcr_Pymt_Amt_max',\n",
       " 'Avg_Mdcr_Pymt_Amt_median',\n",
       " 'Avg_Mdcr_Pymt_Amt_std',\n",
       " 'key',\n",
       " 'Brnd_Name_count',\n",
       " 'Brnd_Name_nunique',\n",
       " 'Tot_Clms_min',\n",
       " 'Tot_Clms_max',\n",
       " 'Tot_Clms_mean',\n",
       " 'Tot_Clms_median',\n",
       " 'Tot_Clms_std',\n",
       " 'Tot_30day_Fills_min',\n",
       " 'Tot_30day_Fills_max',\n",
       " 'Tot_30day_Fills_mean',\n",
       " 'Tot_30day_Fills_median',\n",
       " 'Tot_30day_Fills_std',\n",
       " 'Tot_Day_Suply_min',\n",
       " 'Tot_Day_Suply_max',\n",
       " 'Tot_Day_Suply_mean',\n",
       " 'Tot_Day_Suply_median',\n",
       " 'Tot_Day_Suply_std',\n",
       " 'Tot_Drug_Cst_min',\n",
       " 'Tot_Drug_Cst_max',\n",
       " 'Tot_Drug_Cst_mean',\n",
       " 'Tot_Drug_Cst_median',\n",
       " 'Tot_Drug_Cst_std',\n",
       " 'Rfrg_Prvdr_Gndr',\n",
       " 'BETOS_Cd_count',\n",
       " 'BETOS_Cd_nunique',\n",
       " 'HCPCS_Cd_count_y',\n",
       " 'HCPCS_Cd_nunique_y',\n",
       " 'Tot_Suplrs_min',\n",
       " 'Tot_Suplrs_max',\n",
       " 'Tot_Suplrs_mean',\n",
       " 'Tot_Suplrs_median',\n",
       " 'Tot_Suplrs_std',\n",
       " 'Tot_Suplr_Benes_min',\n",
       " 'Tot_Suplr_Benes_max',\n",
       " 'Tot_Suplr_Benes_mean',\n",
       " 'Tot_Suplr_Benes_median',\n",
       " 'Tot_Suplr_Benes_std',\n",
       " 'Tot_Suplr_Clms_min',\n",
       " 'Tot_Suplr_Clms_max',\n",
       " 'Tot_Suplr_Clms_mean',\n",
       " 'Tot_Suplr_Clms_median',\n",
       " 'Tot_Suplr_Clms_std',\n",
       " 'Tot_Suplr_Srvcs_min',\n",
       " 'Tot_Suplr_Srvcs_max',\n",
       " 'Tot_Suplr_Srvcs_mean',\n",
       " 'Tot_Suplr_Srvcs_median',\n",
       " 'Tot_Suplr_Srvcs_std',\n",
       " 'Avg_Suplr_Sbmtd_Chrg_min',\n",
       " 'Avg_Suplr_Sbmtd_Chrg_max',\n",
       " 'Avg_Suplr_Sbmtd_Chrg_mean',\n",
       " 'Avg_Suplr_Sbmtd_Chrg_median',\n",
       " 'Avg_Suplr_Sbmtd_Chrg_std',\n",
       " 'Avg_Suplr_Mdcr_Pymt_Amt_min',\n",
       " 'Avg_Suplr_Mdcr_Pymt_Amt_max',\n",
       " 'Avg_Suplr_Mdcr_Pymt_Amt_mean',\n",
       " 'Avg_Suplr_Mdcr_Pymt_Amt_median',\n",
       " 'Avg_Suplr_Mdcr_Pymt_Amt_std',\n",
       " 'HCPCS_CD_count',\n",
       " 'HCPCS_CD_nunique',\n",
       " 'key2',\n",
       " 'NPI',\n",
       " 'EXCLTYPE',\n",
       " 'EXCLDATE',\n",
       " 'EXCL Year',\n",
       " 'Rndrng_Prvdr_Type_2']"
      ]
     },
     "execution_count": 13,
     "metadata": {},
     "output_type": "execute_result"
    }
   ],
   "source": [
    "raw_data.columns"
   ]
  },
  {
   "cell_type": "code",
   "execution_count": 14,
   "metadata": {},
   "outputs": [],
   "source": [
    "from pyspark.sql.functions import *"
   ]
  },
  {
   "cell_type": "code",
   "execution_count": 15,
   "metadata": {},
   "outputs": [],
   "source": [
    "newDf = raw_data.withColumn(\n",
    "    \"Rndrng_Prvdr_Type_2\",\n",
    "    when(\n",
    "        col(\"Rndrng_Prvdr_Type_2\").like(\"%CRNA%\"),\n",
    "        lit(\"Certified Registered Nurse Anesthetist\")\n",
    "    ).otherwise(col(\"Rndrng_Prvdr_Type_2\"))    \n",
    "    \n",
    ")"
   ]
  },
  {
   "cell_type": "code",
   "execution_count": 16,
   "metadata": {},
   "outputs": [],
   "source": [
    "\n",
    "newDf = newDf.withColumn(\n",
    "    \"Rndrng_Prvdr_Type_2\",\n",
    "    when(\n",
    "        col(\"Rndrng_Prvdr_Type_2\").like(\"%Hematology%\"),\n",
    "        lit(\"Hematology\")\n",
    "    ).otherwise(col(\"Rndrng_Prvdr_Type_2\"))    \n",
    "    \n",
    ")"
   ]
  },
  {
   "cell_type": "code",
   "execution_count": 17,
   "metadata": {},
   "outputs": [],
   "source": [
    "newDf = newDf.withColumn(\n",
    "    \"Rndrng_Prvdr_Type_2\",\n",
    "    when(\n",
    "        col(\"Rndrng_Prvdr_Type_2\").like(\"%Audiologist%\"),\n",
    "        lit(\"Audiologist\")\n",
    "    ).otherwise(col(\"Rndrng_Prvdr_Type_2\"))    \n",
    "    \n",
    ")"
   ]
  },
  {
   "cell_type": "code",
   "execution_count": 18,
   "metadata": {},
   "outputs": [],
   "source": [
    "newDf = newDf.withColumn(\n",
    "    \"Rndrng_Prvdr_Type_2\",\n",
    "    when(\n",
    "        col(\"Rndrng_Prvdr_Type_2\").like(\"%Pain Management%\"),\n",
    "        lit(\"Pain Management\")\n",
    "    ).otherwise(col(\"Rndrng_Prvdr_Type_2\"))    \n",
    "    \n",
    ")"
   ]
  },
  {
   "cell_type": "code",
   "execution_count": 19,
   "metadata": {},
   "outputs": [],
   "source": [
    "newDf = newDf.withColumn(\n",
    "    \"Rndrng_Prvdr_Type_2\",\n",
    "    when(\n",
    "        col(\"Rndrng_Prvdr_Type_2\").like(\"%Cardiology%\"),\n",
    "        lit(\"Cardiology\")\n",
    "    ).otherwise(col(\"Rndrng_Prvdr_Type_2\"))    \n",
    "    \n",
    ")"
   ]
  },
  {
   "cell_type": "code",
   "execution_count": 20,
   "metadata": {},
   "outputs": [],
   "source": [
    "newDf = newDf.withColumn(\n",
    "    \"Rndrng_Prvdr_Type_2\",\n",
    "    when(\n",
    "        col(\"Rndrng_Prvdr_Type_2\").like(\"%Colorectal%\"),\n",
    "        lit(\"Colorectal Surgery\")\n",
    "    ).otherwise(col(\"Rndrng_Prvdr_Type_2\"))    \n",
    "    \n",
    ")"
   ]
  },
  {
   "cell_type": "code",
   "execution_count": 21,
   "metadata": {},
   "outputs": [],
   "source": [
    "newDf = newDf.withColumn(\n",
    "    \"Rndrng_Prvdr_Type_2\",\n",
    "    when(\n",
    "        col(\"Rndrng_Prvdr_Type_2\").like(\"%Oral%\"),\n",
    "        lit(\"Oral Surgery\")\n",
    "    ).otherwise(col(\"Rndrng_Prvdr_Type_2\"))    \n",
    "    \n",
    ")"
   ]
  },
  {
   "cell_type": "code",
   "execution_count": 22,
   "metadata": {},
   "outputs": [],
   "source": [
    "newDf = newDf.withColumn(\"Rndrng_Prvdr_Type_2\", regexp_replace(\"Rndrng_Prvdr_Type_2\", \"Obstetrics & Gynecology\", \"Obstetrics/Gynecology\"))\n",
    "newDf = newDf.withColumn(\"Rndrng_Prvdr_Type_2\", regexp_replace(\"Rndrng_Prvdr_Type_2\",\"Psychologist, Clinical\", \"Clinical Psychologist\"))\n",
    "newDf = newDf.withColumn(\"Rndrng_Prvdr_Type_2\", regexp_replace(\"Rndrng_Prvdr_Type_2\",\"Gynecological Oncology\", \"Gynecological/Oncology\"))\n",
    "newDf = newDf.withColumn(\"Rndrng_Prvdr_Type_2\", regexp_replace(\"Rndrng_Prvdr_Type_2\",\"Occupational Therapist in Private Practice\", \"Occupational therapist\"))\n",
    "newDf = newDf.withColumn(\"Rndrng_Prvdr_Type_2\", regexp_replace(\"Rndrng_Prvdr_Type_2\",\"Allergy/ Immunology\", \"Allergy/Immunology\"))\n",
    "newDf = newDf.withColumn(\"Rndrng_Prvdr_Type_2\", regexp_replace(\"Rndrng_Prvdr_Type_2\",\"Occupational Therapist in Private Practice\", \"Occupational therapist\"))\n",
    "\n"
   ]
  },
  {
   "cell_type": "code",
   "execution_count": null,
   "metadata": {},
   "outputs": [],
   "source": []
  },
  {
   "cell_type": "code",
   "execution_count": 23,
   "metadata": {},
   "outputs": [
    {
     "name": "stderr",
     "output_type": "stream",
     "text": [
      "                                                                                \r"
     ]
    }
   ],
   "source": [
    "#review the result in excel\n",
    "\n",
    "newDf.select(\"Rndrng_Prvdr_Type\").distinct().toPandas().to_csv('Rndrng_Prvdr_Type_modified.csv')\n",
    "newDf.select(\"Rndrng_Prvdr_Type_2\").distinct().toPandas().to_csv('Rndrng_Prvdr_Type_2modified.csv')\n"
   ]
  },
  {
   "cell_type": "code",
   "execution_count": 24,
   "metadata": {},
   "outputs": [],
   "source": [
    "newDf2 = newDf.alias('newDf2')"
   ]
  },
  {
   "cell_type": "code",
   "execution_count": 25,
   "metadata": {},
   "outputs": [
    {
     "data": {
      "text/plain": [
       "['_c0',\n",
       " 'Unnamed: 0',\n",
       " 'Rndrng_NPI',\n",
       " 'Rndrng_Prvdr_Type',\n",
       " 'Rndrng_Prvdr_Gndr',\n",
       " 'Year_x',\n",
       " 'HCPCS_Cd_count_x',\n",
       " 'HCPCS_Cd_nunique_x',\n",
       " 'Place_Of_Srvc_count',\n",
       " 'Place_Of_Srvc_nunique',\n",
       " 'Tot_Benes_mean',\n",
       " 'Tot_Benes_min',\n",
       " 'Tot_Benes_max',\n",
       " 'Tot_Benes_median',\n",
       " 'Tot_Benes_std',\n",
       " 'Tot_Srvcs_mean',\n",
       " 'Tot_Srvcs_min',\n",
       " 'Tot_Srvcs_max',\n",
       " 'Tot_Srvcs_median',\n",
       " 'Tot_Srvcs_std',\n",
       " 'Tot_Bene_Day_Srvcs_mean',\n",
       " 'Tot_Bene_Day_Srvcs_min',\n",
       " 'Tot_Bene_Day_Srvcs_max',\n",
       " 'Tot_Bene_Day_Srvcs_median',\n",
       " 'Tot_Bene_Day_Srvcs_std',\n",
       " 'Avg_Sbmtd_Chrg_mean',\n",
       " 'Avg_Sbmtd_Chrg_min',\n",
       " 'Avg_Sbmtd_Chrg_max',\n",
       " 'Avg_Sbmtd_Chrg_median',\n",
       " 'Avg_Sbmtd_Chrg_std',\n",
       " 'Avg_Mdcr_Pymt_Amt_mean',\n",
       " 'Avg_Mdcr_Pymt_Amt_min',\n",
       " 'Avg_Mdcr_Pymt_Amt_max',\n",
       " 'Avg_Mdcr_Pymt_Amt_median',\n",
       " 'Avg_Mdcr_Pymt_Amt_std',\n",
       " 'key',\n",
       " 'Brnd_Name_count',\n",
       " 'Brnd_Name_nunique',\n",
       " 'Tot_Clms_min',\n",
       " 'Tot_Clms_max',\n",
       " 'Tot_Clms_mean',\n",
       " 'Tot_Clms_median',\n",
       " 'Tot_Clms_std',\n",
       " 'Tot_30day_Fills_min',\n",
       " 'Tot_30day_Fills_max',\n",
       " 'Tot_30day_Fills_mean',\n",
       " 'Tot_30day_Fills_median',\n",
       " 'Tot_30day_Fills_std',\n",
       " 'Tot_Day_Suply_min',\n",
       " 'Tot_Day_Suply_max',\n",
       " 'Tot_Day_Suply_mean',\n",
       " 'Tot_Day_Suply_median',\n",
       " 'Tot_Day_Suply_std',\n",
       " 'Tot_Drug_Cst_min',\n",
       " 'Tot_Drug_Cst_max',\n",
       " 'Tot_Drug_Cst_mean',\n",
       " 'Tot_Drug_Cst_median',\n",
       " 'Tot_Drug_Cst_std',\n",
       " 'Rfrg_Prvdr_Gndr',\n",
       " 'BETOS_Cd_count',\n",
       " 'BETOS_Cd_nunique',\n",
       " 'HCPCS_Cd_count_y',\n",
       " 'HCPCS_Cd_nunique_y',\n",
       " 'Tot_Suplrs_min',\n",
       " 'Tot_Suplrs_max',\n",
       " 'Tot_Suplrs_mean',\n",
       " 'Tot_Suplrs_median',\n",
       " 'Tot_Suplrs_std',\n",
       " 'Tot_Suplr_Benes_min',\n",
       " 'Tot_Suplr_Benes_max',\n",
       " 'Tot_Suplr_Benes_mean',\n",
       " 'Tot_Suplr_Benes_median',\n",
       " 'Tot_Suplr_Benes_std',\n",
       " 'Tot_Suplr_Clms_min',\n",
       " 'Tot_Suplr_Clms_max',\n",
       " 'Tot_Suplr_Clms_mean',\n",
       " 'Tot_Suplr_Clms_median',\n",
       " 'Tot_Suplr_Clms_std',\n",
       " 'Tot_Suplr_Srvcs_min',\n",
       " 'Tot_Suplr_Srvcs_max',\n",
       " 'Tot_Suplr_Srvcs_mean',\n",
       " 'Tot_Suplr_Srvcs_median',\n",
       " 'Tot_Suplr_Srvcs_std',\n",
       " 'Avg_Suplr_Sbmtd_Chrg_min',\n",
       " 'Avg_Suplr_Sbmtd_Chrg_max',\n",
       " 'Avg_Suplr_Sbmtd_Chrg_mean',\n",
       " 'Avg_Suplr_Sbmtd_Chrg_median',\n",
       " 'Avg_Suplr_Sbmtd_Chrg_std',\n",
       " 'Avg_Suplr_Mdcr_Pymt_Amt_min',\n",
       " 'Avg_Suplr_Mdcr_Pymt_Amt_max',\n",
       " 'Avg_Suplr_Mdcr_Pymt_Amt_mean',\n",
       " 'Avg_Suplr_Mdcr_Pymt_Amt_median',\n",
       " 'Avg_Suplr_Mdcr_Pymt_Amt_std',\n",
       " 'HCPCS_CD_count',\n",
       " 'HCPCS_CD_nunique',\n",
       " 'key2',\n",
       " 'NPI',\n",
       " 'EXCLTYPE',\n",
       " 'EXCLDATE',\n",
       " 'EXCL Year',\n",
       " 'Rndrng_Prvdr_Type_2']"
      ]
     },
     "execution_count": 25,
     "metadata": {},
     "output_type": "execute_result"
    }
   ],
   "source": [
    "newDf2.columns"
   ]
  },
  {
   "cell_type": "code",
   "execution_count": 26,
   "metadata": {},
   "outputs": [],
   "source": [
    "drop_cols = ('_c0', 'Unnamed: 0', 'EXCL Year', 'EXCLDATE', 'EXCLTYPE', 'NPI')"
   ]
  },
  {
   "cell_type": "code",
   "execution_count": 27,
   "metadata": {},
   "outputs": [],
   "source": [
    "newDf2=newDf2.drop(*drop_cols)"
   ]
  },
  {
   "cell_type": "code",
   "execution_count": 28,
   "metadata": {},
   "outputs": [],
   "source": [
    "newDf2=newDf2.drop('Rndrng_Prvdr_Type')"
   ]
  },
  {
   "cell_type": "code",
   "execution_count": 29,
   "metadata": {},
   "outputs": [
    {
     "name": "stdout",
     "output_type": "stream",
     "text": [
      "root\n",
      " |-- Rndrng_NPI: string (nullable = true)\n",
      " |-- Rndrng_Prvdr_Gndr: string (nullable = true)\n",
      " |-- Year_x: string (nullable = true)\n",
      " |-- HCPCS_Cd_count_x: string (nullable = true)\n",
      " |-- HCPCS_Cd_nunique_x: string (nullable = true)\n",
      " |-- Place_Of_Srvc_count: string (nullable = true)\n",
      " |-- Place_Of_Srvc_nunique: string (nullable = true)\n",
      " |-- Tot_Benes_mean: string (nullable = true)\n",
      " |-- Tot_Benes_min: string (nullable = true)\n",
      " |-- Tot_Benes_max: string (nullable = true)\n",
      " |-- Tot_Benes_median: string (nullable = true)\n",
      " |-- Tot_Benes_std: string (nullable = true)\n",
      " |-- Tot_Srvcs_mean: string (nullable = true)\n",
      " |-- Tot_Srvcs_min: string (nullable = true)\n",
      " |-- Tot_Srvcs_max: string (nullable = true)\n",
      " |-- Tot_Srvcs_median: string (nullable = true)\n",
      " |-- Tot_Srvcs_std: string (nullable = true)\n",
      " |-- Tot_Bene_Day_Srvcs_mean: string (nullable = true)\n",
      " |-- Tot_Bene_Day_Srvcs_min: string (nullable = true)\n",
      " |-- Tot_Bene_Day_Srvcs_max: string (nullable = true)\n",
      " |-- Tot_Bene_Day_Srvcs_median: string (nullable = true)\n",
      " |-- Tot_Bene_Day_Srvcs_std: string (nullable = true)\n",
      " |-- Avg_Sbmtd_Chrg_mean: string (nullable = true)\n",
      " |-- Avg_Sbmtd_Chrg_min: string (nullable = true)\n",
      " |-- Avg_Sbmtd_Chrg_max: string (nullable = true)\n",
      " |-- Avg_Sbmtd_Chrg_median: string (nullable = true)\n",
      " |-- Avg_Sbmtd_Chrg_std: string (nullable = true)\n",
      " |-- Avg_Mdcr_Pymt_Amt_mean: string (nullable = true)\n",
      " |-- Avg_Mdcr_Pymt_Amt_min: string (nullable = true)\n",
      " |-- Avg_Mdcr_Pymt_Amt_max: string (nullable = true)\n",
      " |-- Avg_Mdcr_Pymt_Amt_median: string (nullable = true)\n",
      " |-- Avg_Mdcr_Pymt_Amt_std: string (nullable = true)\n",
      " |-- key: string (nullable = true)\n",
      " |-- Brnd_Name_count: string (nullable = true)\n",
      " |-- Brnd_Name_nunique: string (nullable = true)\n",
      " |-- Tot_Clms_min: string (nullable = true)\n",
      " |-- Tot_Clms_max: string (nullable = true)\n",
      " |-- Tot_Clms_mean: string (nullable = true)\n",
      " |-- Tot_Clms_median: string (nullable = true)\n",
      " |-- Tot_Clms_std: string (nullable = true)\n",
      " |-- Tot_30day_Fills_min: string (nullable = true)\n",
      " |-- Tot_30day_Fills_max: string (nullable = true)\n",
      " |-- Tot_30day_Fills_mean: string (nullable = true)\n",
      " |-- Tot_30day_Fills_median: string (nullable = true)\n",
      " |-- Tot_30day_Fills_std: string (nullable = true)\n",
      " |-- Tot_Day_Suply_min: string (nullable = true)\n",
      " |-- Tot_Day_Suply_max: string (nullable = true)\n",
      " |-- Tot_Day_Suply_mean: string (nullable = true)\n",
      " |-- Tot_Day_Suply_median: string (nullable = true)\n",
      " |-- Tot_Day_Suply_std: string (nullable = true)\n",
      " |-- Tot_Drug_Cst_min: string (nullable = true)\n",
      " |-- Tot_Drug_Cst_max: string (nullable = true)\n",
      " |-- Tot_Drug_Cst_mean: string (nullable = true)\n",
      " |-- Tot_Drug_Cst_median: string (nullable = true)\n",
      " |-- Tot_Drug_Cst_std: string (nullable = true)\n",
      " |-- Rfrg_Prvdr_Gndr: string (nullable = true)\n",
      " |-- BETOS_Cd_count: string (nullable = true)\n",
      " |-- BETOS_Cd_nunique: string (nullable = true)\n",
      " |-- HCPCS_Cd_count_y: string (nullable = true)\n",
      " |-- HCPCS_Cd_nunique_y: string (nullable = true)\n",
      " |-- Tot_Suplrs_min: string (nullable = true)\n",
      " |-- Tot_Suplrs_max: string (nullable = true)\n",
      " |-- Tot_Suplrs_mean: string (nullable = true)\n",
      " |-- Tot_Suplrs_median: string (nullable = true)\n",
      " |-- Tot_Suplrs_std: string (nullable = true)\n",
      " |-- Tot_Suplr_Benes_min: string (nullable = true)\n",
      " |-- Tot_Suplr_Benes_max: string (nullable = true)\n",
      " |-- Tot_Suplr_Benes_mean: string (nullable = true)\n",
      " |-- Tot_Suplr_Benes_median: string (nullable = true)\n",
      " |-- Tot_Suplr_Benes_std: string (nullable = true)\n",
      " |-- Tot_Suplr_Clms_min: string (nullable = true)\n",
      " |-- Tot_Suplr_Clms_max: string (nullable = true)\n",
      " |-- Tot_Suplr_Clms_mean: string (nullable = true)\n",
      " |-- Tot_Suplr_Clms_median: string (nullable = true)\n",
      " |-- Tot_Suplr_Clms_std: string (nullable = true)\n",
      " |-- Tot_Suplr_Srvcs_min: string (nullable = true)\n",
      " |-- Tot_Suplr_Srvcs_max: string (nullable = true)\n",
      " |-- Tot_Suplr_Srvcs_mean: string (nullable = true)\n",
      " |-- Tot_Suplr_Srvcs_median: string (nullable = true)\n",
      " |-- Tot_Suplr_Srvcs_std: string (nullable = true)\n",
      " |-- Avg_Suplr_Sbmtd_Chrg_min: string (nullable = true)\n",
      " |-- Avg_Suplr_Sbmtd_Chrg_max: string (nullable = true)\n",
      " |-- Avg_Suplr_Sbmtd_Chrg_mean: string (nullable = true)\n",
      " |-- Avg_Suplr_Sbmtd_Chrg_median: string (nullable = true)\n",
      " |-- Avg_Suplr_Sbmtd_Chrg_std: string (nullable = true)\n",
      " |-- Avg_Suplr_Mdcr_Pymt_Amt_min: string (nullable = true)\n",
      " |-- Avg_Suplr_Mdcr_Pymt_Amt_max: string (nullable = true)\n",
      " |-- Avg_Suplr_Mdcr_Pymt_Amt_mean: string (nullable = true)\n",
      " |-- Avg_Suplr_Mdcr_Pymt_Amt_median: string (nullable = true)\n",
      " |-- Avg_Suplr_Mdcr_Pymt_Amt_std: string (nullable = true)\n",
      " |-- HCPCS_CD_count: string (nullable = true)\n",
      " |-- HCPCS_CD_nunique: string (nullable = true)\n",
      " |-- key2: string (nullable = true)\n",
      " |-- Rndrng_Prvdr_Type_2: string (nullable = true)\n",
      "\n"
     ]
    }
   ],
   "source": [
    "newDf2.printSchema()"
   ]
  },
  {
   "cell_type": "code",
   "execution_count": 30,
   "metadata": {},
   "outputs": [
    {
     "data": {
      "text/html": [
       "<div>\n",
       "<style scoped>\n",
       "    .dataframe tbody tr th:only-of-type {\n",
       "        vertical-align: middle;\n",
       "    }\n",
       "\n",
       "    .dataframe tbody tr th {\n",
       "        vertical-align: top;\n",
       "    }\n",
       "\n",
       "    .dataframe thead th {\n",
       "        text-align: right;\n",
       "    }\n",
       "</style>\n",
       "<table border=\"1\" class=\"dataframe\">\n",
       "  <thead>\n",
       "    <tr style=\"text-align: right;\">\n",
       "      <th></th>\n",
       "      <th>Rndrng_NPI</th>\n",
       "      <th>Rndrng_Prvdr_Gndr</th>\n",
       "      <th>Year_x</th>\n",
       "      <th>HCPCS_Cd_count_x</th>\n",
       "      <th>HCPCS_Cd_nunique_x</th>\n",
       "      <th>Place_Of_Srvc_count</th>\n",
       "      <th>Place_Of_Srvc_nunique</th>\n",
       "      <th>Tot_Benes_mean</th>\n",
       "      <th>Tot_Benes_min</th>\n",
       "      <th>Tot_Benes_max</th>\n",
       "      <th>...</th>\n",
       "      <th>Avg_Suplr_Sbmtd_Chrg_std</th>\n",
       "      <th>Avg_Suplr_Mdcr_Pymt_Amt_min</th>\n",
       "      <th>Avg_Suplr_Mdcr_Pymt_Amt_max</th>\n",
       "      <th>Avg_Suplr_Mdcr_Pymt_Amt_mean</th>\n",
       "      <th>Avg_Suplr_Mdcr_Pymt_Amt_median</th>\n",
       "      <th>Avg_Suplr_Mdcr_Pymt_Amt_std</th>\n",
       "      <th>HCPCS_CD_count</th>\n",
       "      <th>HCPCS_CD_nunique</th>\n",
       "      <th>key2</th>\n",
       "      <th>Rndrng_Prvdr_Type_2</th>\n",
       "    </tr>\n",
       "  </thead>\n",
       "  <tbody>\n",
       "    <tr>\n",
       "      <th>0</th>\n",
       "      <td>1003000126</td>\n",
       "      <td>M</td>\n",
       "      <td>2013</td>\n",
       "      <td>7</td>\n",
       "      <td>7</td>\n",
       "      <td>7</td>\n",
       "      <td>1</td>\n",
       "      <td>158.85714285714286</td>\n",
       "      <td>47</td>\n",
       "      <td>381</td>\n",
       "      <td>...</td>\n",
       "      <td>206.10226545550853</td>\n",
       "      <td>23.320416666999996</td>\n",
       "      <td>139.35321429</td>\n",
       "      <td>81.3368154785</td>\n",
       "      <td>81.3368154785</td>\n",
       "      <td>82.04757803926962</td>\n",
       "      <td>0.0</td>\n",
       "      <td>0.0</td>\n",
       "      <td>1003000126_2013</td>\n",
       "      <td>Internal Medicine</td>\n",
       "    </tr>\n",
       "    <tr>\n",
       "      <th>1</th>\n",
       "      <td>1003000134</td>\n",
       "      <td>M</td>\n",
       "      <td>2013</td>\n",
       "      <td>7</td>\n",
       "      <td>7</td>\n",
       "      <td>7</td>\n",
       "      <td>1</td>\n",
       "      <td>691.5714285714287</td>\n",
       "      <td>46</td>\n",
       "      <td>3770</td>\n",
       "      <td>...</td>\n",
       "      <td>0.0</td>\n",
       "      <td>0.0</td>\n",
       "      <td>0.0</td>\n",
       "      <td>0.0</td>\n",
       "      <td>0.0</td>\n",
       "      <td>0.0</td>\n",
       "      <td>0.0</td>\n",
       "      <td>0.0</td>\n",
       "      <td>1003000134_2013</td>\n",
       "      <td>Pathology</td>\n",
       "    </tr>\n",
       "    <tr>\n",
       "      <th>2</th>\n",
       "      <td>1003000142</td>\n",
       "      <td>M</td>\n",
       "      <td>2013</td>\n",
       "      <td>8</td>\n",
       "      <td>8</td>\n",
       "      <td>8</td>\n",
       "      <td>2</td>\n",
       "      <td>31.0</td>\n",
       "      <td>12</td>\n",
       "      <td>70</td>\n",
       "      <td>...</td>\n",
       "      <td>0.0</td>\n",
       "      <td>0.0</td>\n",
       "      <td>0.0</td>\n",
       "      <td>0.0</td>\n",
       "      <td>0.0</td>\n",
       "      <td>0.0</td>\n",
       "      <td>0.0</td>\n",
       "      <td>0.0</td>\n",
       "      <td>1003000142_2013</td>\n",
       "      <td>Anesthesiology</td>\n",
       "    </tr>\n",
       "    <tr>\n",
       "      <th>3</th>\n",
       "      <td>1003000407</td>\n",
       "      <td>M</td>\n",
       "      <td>2013</td>\n",
       "      <td>21</td>\n",
       "      <td>21</td>\n",
       "      <td>21</td>\n",
       "      <td>1</td>\n",
       "      <td>49.28571428571429</td>\n",
       "      <td>11</td>\n",
       "      <td>181</td>\n",
       "      <td>...</td>\n",
       "      <td>28.433099377290677</td>\n",
       "      <td>0.033148633500000003</td>\n",
       "      <td>36.895454545</td>\n",
       "      <td>15.9824329435</td>\n",
       "      <td>11.018695652</td>\n",
       "      <td>18.92581346210838</td>\n",
       "      <td>0.0</td>\n",
       "      <td>0.0</td>\n",
       "      <td>1003000407_2013</td>\n",
       "      <td>Family Practice</td>\n",
       "    </tr>\n",
       "    <tr>\n",
       "      <th>4</th>\n",
       "      <td>1003000423</td>\n",
       "      <td>F</td>\n",
       "      <td>2013</td>\n",
       "      <td>4</td>\n",
       "      <td>4</td>\n",
       "      <td>4</td>\n",
       "      <td>1</td>\n",
       "      <td>22.5</td>\n",
       "      <td>16</td>\n",
       "      <td>29</td>\n",
       "      <td>...</td>\n",
       "      <td>0.0</td>\n",
       "      <td>0.0</td>\n",
       "      <td>0.0</td>\n",
       "      <td>0.0</td>\n",
       "      <td>0.0</td>\n",
       "      <td>0.0</td>\n",
       "      <td>0.0</td>\n",
       "      <td>0.0</td>\n",
       "      <td>1003000423_2013</td>\n",
       "      <td>Obstetrics/Gynecology</td>\n",
       "    </tr>\n",
       "  </tbody>\n",
       "</table>\n",
       "<p>5 rows × 94 columns</p>\n",
       "</div>"
      ],
      "text/plain": [
       "   Rndrng_NPI Rndrng_Prvdr_Gndr Year_x HCPCS_Cd_count_x HCPCS_Cd_nunique_x  \\\n",
       "0  1003000126                 M   2013                7                  7   \n",
       "1  1003000134                 M   2013                7                  7   \n",
       "2  1003000142                 M   2013                8                  8   \n",
       "3  1003000407                 M   2013               21                 21   \n",
       "4  1003000423                 F   2013                4                  4   \n",
       "\n",
       "  Place_Of_Srvc_count Place_Of_Srvc_nunique      Tot_Benes_mean Tot_Benes_min  \\\n",
       "0                   7                     1  158.85714285714286            47   \n",
       "1                   7                     1   691.5714285714287            46   \n",
       "2                   8                     2                31.0            12   \n",
       "3                  21                     1   49.28571428571429            11   \n",
       "4                   4                     1                22.5            16   \n",
       "\n",
       "  Tot_Benes_max  ... Avg_Suplr_Sbmtd_Chrg_std Avg_Suplr_Mdcr_Pymt_Amt_min  \\\n",
       "0           381  ...       206.10226545550853          23.320416666999996   \n",
       "1          3770  ...                      0.0                         0.0   \n",
       "2            70  ...                      0.0                         0.0   \n",
       "3           181  ...       28.433099377290677        0.033148633500000003   \n",
       "4            29  ...                      0.0                         0.0   \n",
       "\n",
       "  Avg_Suplr_Mdcr_Pymt_Amt_max Avg_Suplr_Mdcr_Pymt_Amt_mean  \\\n",
       "0                139.35321429                81.3368154785   \n",
       "1                         0.0                          0.0   \n",
       "2                         0.0                          0.0   \n",
       "3                36.895454545                15.9824329435   \n",
       "4                         0.0                          0.0   \n",
       "\n",
       "  Avg_Suplr_Mdcr_Pymt_Amt_median Avg_Suplr_Mdcr_Pymt_Amt_std HCPCS_CD_count  \\\n",
       "0                  81.3368154785           82.04757803926962            0.0   \n",
       "1                            0.0                         0.0            0.0   \n",
       "2                            0.0                         0.0            0.0   \n",
       "3                   11.018695652           18.92581346210838            0.0   \n",
       "4                            0.0                         0.0            0.0   \n",
       "\n",
       "  HCPCS_CD_nunique             key2    Rndrng_Prvdr_Type_2  \n",
       "0              0.0  1003000126_2013      Internal Medicine  \n",
       "1              0.0  1003000134_2013              Pathology  \n",
       "2              0.0  1003000142_2013         Anesthesiology  \n",
       "3              0.0  1003000407_2013        Family Practice  \n",
       "4              0.0  1003000423_2013  Obstetrics/Gynecology  \n",
       "\n",
       "[5 rows x 94 columns]"
      ]
     },
     "execution_count": 30,
     "metadata": {},
     "output_type": "execute_result"
    }
   ],
   "source": [
    "newDf2.limit(5).toPandas()"
   ]
  },
  {
   "cell_type": "markdown",
   "metadata": {},
   "source": [
    "## OnehotEncoding\n",
    "https://medium.com/@nutanbhogendrasharma/role-of-onehotencoder-and-pipelines-in-pyspark-ml-feature-part-2-3275767e74f0"
   ]
  },
  {
   "cell_type": "code",
   "execution_count": 31,
   "metadata": {},
   "outputs": [],
   "source": [
    "from pyspark.ml.feature import StringIndexer\n",
    "from pyspark.ml.feature import OneHotEncoder\n",
    "from pyspark.ml import Pipeline"
   ]
  },
  {
   "cell_type": "code",
   "execution_count": 32,
   "metadata": {},
   "outputs": [
    {
     "data": {
      "text/plain": [
       "['Avg_Suplr_Sbmtd_Chrg_min',\n",
       " 'Avg_Suplr_Sbmtd_Chrg_max',\n",
       " 'Avg_Suplr_Sbmtd_Chrg_mean',\n",
       " 'Avg_Suplr_Sbmtd_Chrg_median',\n",
       " 'Avg_Suplr_Sbmtd_Chrg_std',\n",
       " 'Avg_Suplr_Mdcr_Pymt_Amt_min',\n",
       " 'Avg_Suplr_Mdcr_Pymt_Amt_max',\n",
       " 'Avg_Suplr_Mdcr_Pymt_Amt_mean',\n",
       " 'Avg_Suplr_Mdcr_Pymt_Amt_median',\n",
       " 'Avg_Suplr_Mdcr_Pymt_Amt_std',\n",
       " 'HCPCS_CD_count',\n",
       " 'HCPCS_CD_nunique',\n",
       " 'key2',\n",
       " 'Rndrng_Prvdr_Type_2']"
      ]
     },
     "execution_count": 32,
     "metadata": {},
     "output_type": "execute_result"
    }
   ],
   "source": [
    "newDf2.columns[80:]"
   ]
  },
  {
   "cell_type": "markdown",
   "metadata": {},
   "source": [
    "### one hot encoding in pyspark\n",
    "https://medium.com/@nutanbhogendrasharma/role-of-onehotencoder-and-pipelines-in-pyspark-ml-feature-part-2-3275767e74f0\n",
    "\n",
    "https://stackoverflow.com/questions/35804755/apply-onehotencoder-for-several-categorical-columns-in-sparkmlib\n"
   ]
  },
  {
   "cell_type": "code",
   "execution_count": 33,
   "metadata": {},
   "outputs": [],
   "source": [
    "from pyspark.ml import Pipeline\n",
    "from pyspark.ml.feature import StringIndexer, OneHotEncoder, VectorAssembler\n",
    "from pyspark.ml.feature import OneHotEncoder, OneHotEncoderModel"
   ]
  },
  {
   "cell_type": "code",
   "execution_count": 34,
   "metadata": {},
   "outputs": [
    {
     "name": "stderr",
     "output_type": "stream",
     "text": [
      "                                                                                \r"
     ]
    },
    {
     "data": {
      "text/plain": [
       "['Avg_Suplr_Sbmtd_Chrg_min',\n",
       " 'Avg_Suplr_Sbmtd_Chrg_max',\n",
       " 'Avg_Suplr_Sbmtd_Chrg_mean',\n",
       " 'Avg_Suplr_Sbmtd_Chrg_median',\n",
       " 'Avg_Suplr_Sbmtd_Chrg_std',\n",
       " 'Avg_Suplr_Mdcr_Pymt_Amt_min',\n",
       " 'Avg_Suplr_Mdcr_Pymt_Amt_max',\n",
       " 'Avg_Suplr_Mdcr_Pymt_Amt_mean',\n",
       " 'Avg_Suplr_Mdcr_Pymt_Amt_median',\n",
       " 'Avg_Suplr_Mdcr_Pymt_Amt_std',\n",
       " 'HCPCS_CD_count',\n",
       " 'HCPCS_CD_nunique',\n",
       " 'key2',\n",
       " 'Rndrng_Prvdr_Type_2',\n",
       " 'Rndrng_Prvdr_Gndr_indexed',\n",
       " 'Rndrng_Prvdr_Type_2_indexed',\n",
       " 'Rfrg_Prvdr_Gndr_indexed',\n",
       " 'Rndrng_Prvdr_Gndr_indexed_encoded',\n",
       " 'Rndrng_Prvdr_Type_2_indexed_encoded',\n",
       " 'Rfrg_Prvdr_Gndr_indexed_encoded',\n",
       " 'features']"
      ]
     },
     "execution_count": 34,
     "metadata": {},
     "output_type": "execute_result"
    }
   ],
   "source": [
    "from pyspark.ml.feature import OneHotEncoder, OneHotEncoderModel\n",
    "# The index of string vlaues multiple columns\n",
    "categorical_columns= ['Rndrng_Prvdr_Gndr','Rndrng_Prvdr_Type_2','Rfrg_Prvdr_Gndr']\n",
    "\n",
    "indexers = [\n",
    "    StringIndexer(inputCol=c, outputCol=\"{0}_indexed\".format(c))\n",
    "    for c in categorical_columns\n",
    "]\n",
    "\n",
    "\n",
    "encoder = OneHotEncoder(\n",
    "    inputCols=[indexer.getOutputCol() for indexer in indexers],\n",
    "    outputCols=[\n",
    "        \"{0}_encoded\".format(indexer.getOutputCol()) for indexer in indexers]\n",
    ")\n",
    "\n",
    "### combines features into a single column. So I don't need this.\n",
    "assembler = VectorAssembler(\n",
    "    inputCols=encoder.getOutputCols(),\n",
    "    outputCol=\"features\"\n",
    ")\n",
    "\n",
    "pipeline = Pipeline(stages=indexers + [encoder, assembler])\n",
    "transformed=pipeline.fit(newDf2).transform(newDf2)\n",
    "transformed.columns[80:]\n"
   ]
  },
  {
   "cell_type": "code",
   "execution_count": 35,
   "metadata": {},
   "outputs": [
    {
     "data": {
      "text/plain": [
       "['Avg_Suplr_Sbmtd_Chrg_min',\n",
       " 'Avg_Suplr_Sbmtd_Chrg_max',\n",
       " 'Avg_Suplr_Sbmtd_Chrg_mean',\n",
       " 'Avg_Suplr_Sbmtd_Chrg_median',\n",
       " 'Avg_Suplr_Sbmtd_Chrg_std',\n",
       " 'Avg_Suplr_Mdcr_Pymt_Amt_min',\n",
       " 'Avg_Suplr_Mdcr_Pymt_Amt_max',\n",
       " 'Avg_Suplr_Mdcr_Pymt_Amt_mean',\n",
       " 'Avg_Suplr_Mdcr_Pymt_Amt_median',\n",
       " 'Avg_Suplr_Mdcr_Pymt_Amt_std',\n",
       " 'HCPCS_CD_count',\n",
       " 'HCPCS_CD_nunique',\n",
       " 'key2',\n",
       " 'Rndrng_Prvdr_Type_2',\n",
       " 'Rndrng_Prvdr_Gndr_indexed',\n",
       " 'Rndrng_Prvdr_Type_2_indexed',\n",
       " 'Rfrg_Prvdr_Gndr_indexed',\n",
       " 'Rndrng_Prvdr_Gndr_indexed_encoded',\n",
       " 'Rndrng_Prvdr_Type_2_indexed_encoded',\n",
       " 'Rfrg_Prvdr_Gndr_indexed_encoded',\n",
       " 'features']"
      ]
     },
     "execution_count": 35,
     "metadata": {},
     "output_type": "execute_result"
    }
   ],
   "source": [
    "transformed.columns[80:]"
   ]
  },
  {
   "cell_type": "code",
   "execution_count": 36,
   "metadata": {},
   "outputs": [],
   "source": [
    "#checkpoint here\n",
    "newDf3 = transformed.alias('newDf3')"
   ]
  },
  {
   "cell_type": "markdown",
   "metadata": {},
   "source": [
    "## Drop parent and other intermediate columns."
   ]
  },
  {
   "cell_type": "code",
   "execution_count": 37,
   "metadata": {},
   "outputs": [],
   "source": [
    "drop_cols2 = ['Rndrng_Prvdr_Gndr','Rfrg_Prvdr_Gndr','Rndrng_Prvdr_Type_2','Rndrng_Prvdr_Gndr_indexed','Rndrng_Prvdr_Type_2_indexed','Rfrg_Prvdr_Gndr_indexed','features']"
   ]
  },
  {
   "cell_type": "code",
   "execution_count": 38,
   "metadata": {},
   "outputs": [],
   "source": [
    "newDf3=newDf3.drop(*drop_cols2)"
   ]
  },
  {
   "cell_type": "code",
   "execution_count": 39,
   "metadata": {},
   "outputs": [],
   "source": [
    "### NPI looks like a unique ID that needs to be dropped\n",
    "newDf3=newDf3.drop('Rndrng_NPI')"
   ]
  },
  {
   "cell_type": "code",
   "execution_count": 40,
   "metadata": {},
   "outputs": [
    {
     "data": {
      "text/plain": [
       "['Year_x',\n",
       " 'HCPCS_Cd_count_x',\n",
       " 'HCPCS_Cd_nunique_x',\n",
       " 'Place_Of_Srvc_count',\n",
       " 'Place_Of_Srvc_nunique',\n",
       " 'Tot_Benes_mean',\n",
       " 'Tot_Benes_min',\n",
       " 'Tot_Benes_max',\n",
       " 'Tot_Benes_median',\n",
       " 'Tot_Benes_std',\n",
       " 'Tot_Srvcs_mean',\n",
       " 'Tot_Srvcs_min',\n",
       " 'Tot_Srvcs_max',\n",
       " 'Tot_Srvcs_median',\n",
       " 'Tot_Srvcs_std',\n",
       " 'Tot_Bene_Day_Srvcs_mean',\n",
       " 'Tot_Bene_Day_Srvcs_min',\n",
       " 'Tot_Bene_Day_Srvcs_max',\n",
       " 'Tot_Bene_Day_Srvcs_median',\n",
       " 'Tot_Bene_Day_Srvcs_std',\n",
       " 'Avg_Sbmtd_Chrg_mean',\n",
       " 'Avg_Sbmtd_Chrg_min',\n",
       " 'Avg_Sbmtd_Chrg_max',\n",
       " 'Avg_Sbmtd_Chrg_median',\n",
       " 'Avg_Sbmtd_Chrg_std',\n",
       " 'Avg_Mdcr_Pymt_Amt_mean',\n",
       " 'Avg_Mdcr_Pymt_Amt_min',\n",
       " 'Avg_Mdcr_Pymt_Amt_max',\n",
       " 'Avg_Mdcr_Pymt_Amt_median',\n",
       " 'Avg_Mdcr_Pymt_Amt_std',\n",
       " 'key',\n",
       " 'Brnd_Name_count',\n",
       " 'Brnd_Name_nunique',\n",
       " 'Tot_Clms_min',\n",
       " 'Tot_Clms_max',\n",
       " 'Tot_Clms_mean',\n",
       " 'Tot_Clms_median',\n",
       " 'Tot_Clms_std',\n",
       " 'Tot_30day_Fills_min',\n",
       " 'Tot_30day_Fills_max',\n",
       " 'Tot_30day_Fills_mean',\n",
       " 'Tot_30day_Fills_median',\n",
       " 'Tot_30day_Fills_std',\n",
       " 'Tot_Day_Suply_min',\n",
       " 'Tot_Day_Suply_max',\n",
       " 'Tot_Day_Suply_mean',\n",
       " 'Tot_Day_Suply_median',\n",
       " 'Tot_Day_Suply_std',\n",
       " 'Tot_Drug_Cst_min',\n",
       " 'Tot_Drug_Cst_max',\n",
       " 'Tot_Drug_Cst_mean',\n",
       " 'Tot_Drug_Cst_median',\n",
       " 'Tot_Drug_Cst_std',\n",
       " 'BETOS_Cd_count',\n",
       " 'BETOS_Cd_nunique',\n",
       " 'HCPCS_Cd_count_y',\n",
       " 'HCPCS_Cd_nunique_y',\n",
       " 'Tot_Suplrs_min',\n",
       " 'Tot_Suplrs_max',\n",
       " 'Tot_Suplrs_mean',\n",
       " 'Tot_Suplrs_median',\n",
       " 'Tot_Suplrs_std',\n",
       " 'Tot_Suplr_Benes_min',\n",
       " 'Tot_Suplr_Benes_max',\n",
       " 'Tot_Suplr_Benes_mean',\n",
       " 'Tot_Suplr_Benes_median',\n",
       " 'Tot_Suplr_Benes_std',\n",
       " 'Tot_Suplr_Clms_min',\n",
       " 'Tot_Suplr_Clms_max',\n",
       " 'Tot_Suplr_Clms_mean',\n",
       " 'Tot_Suplr_Clms_median',\n",
       " 'Tot_Suplr_Clms_std',\n",
       " 'Tot_Suplr_Srvcs_min',\n",
       " 'Tot_Suplr_Srvcs_max',\n",
       " 'Tot_Suplr_Srvcs_mean',\n",
       " 'Tot_Suplr_Srvcs_median',\n",
       " 'Tot_Suplr_Srvcs_std',\n",
       " 'Avg_Suplr_Sbmtd_Chrg_min',\n",
       " 'Avg_Suplr_Sbmtd_Chrg_max',\n",
       " 'Avg_Suplr_Sbmtd_Chrg_mean',\n",
       " 'Avg_Suplr_Sbmtd_Chrg_median',\n",
       " 'Avg_Suplr_Sbmtd_Chrg_std',\n",
       " 'Avg_Suplr_Mdcr_Pymt_Amt_min',\n",
       " 'Avg_Suplr_Mdcr_Pymt_Amt_max',\n",
       " 'Avg_Suplr_Mdcr_Pymt_Amt_mean',\n",
       " 'Avg_Suplr_Mdcr_Pymt_Amt_median',\n",
       " 'Avg_Suplr_Mdcr_Pymt_Amt_std',\n",
       " 'HCPCS_CD_count',\n",
       " 'HCPCS_CD_nunique',\n",
       " 'key2',\n",
       " 'Rndrng_Prvdr_Gndr_indexed_encoded',\n",
       " 'Rndrng_Prvdr_Type_2_indexed_encoded',\n",
       " 'Rfrg_Prvdr_Gndr_indexed_encoded']"
      ]
     },
     "execution_count": 40,
     "metadata": {},
     "output_type": "execute_result"
    }
   ],
   "source": [
    "newDf3.columns"
   ]
  },
  {
   "cell_type": "code",
   "execution_count": null,
   "metadata": {},
   "outputs": [],
   "source": [
    "# !spark-shell --packages com.microsoft.azure:synapseml_2.12:0.9.5\n",
    "# !pyspark --packages com.microsoft.azure:synapseml_2.12:0.9.5\n",
    "# !spark-submit --packages com.microsoft.azure:synapseml_2.12:0.9.5 MyApp.jar"
   ]
  },
  {
   "cell_type": "markdown",
   "metadata": {},
   "source": [
    "## Modeling"
   ]
  },
  {
   "cell_type": "code",
   "execution_count": 41,
   "metadata": {},
   "outputs": [],
   "source": [
    "import pyspark\n",
    "sc = pyspark.sql.SparkSession.builder.appName(\"MyApp\") \\\n",
    "            .config(\"spark.jars.packages\", \"com.microsoft.azure:synapseml_2.12:0.9.5\") \\\n",
    "            .config(\"spark.jars.repositories\", \"https://mmlspark.azureedge.net/maven\") \\\n",
    "            .getOrCreate()\n"
   ]
  },
  {
   "cell_type": "code",
   "execution_count": 42,
   "metadata": {},
   "outputs": [],
   "source": [
    "import synapse.ml"
   ]
  },
  {
   "cell_type": "code",
   "execution_count": 46,
   "metadata": {},
   "outputs": [
    {
     "ename": "TypeError",
     "evalue": "'JavaPackage' object is not callable",
     "output_type": "error",
     "traceback": [
      "\u001b[0;31m---------------------------------------------------------------------------\u001b[0m",
      "\u001b[0;31mTypeError\u001b[0m                                 Traceback (most recent call last)",
      "\u001b[1;32m/mnt/c/Users/John Olanipekun/Documents/Machine Learning/SMU_Machine_Learning/capstone2/modeling_anom_concise.ipynb Cell 56'\u001b[0m in \u001b[0;36m<module>\u001b[0;34m\u001b[0m\n\u001b[1;32m      <a href='vscode-notebook-cell://wsl%2Bubuntu-20.04/mnt/c/Users/John%20Olanipekun/Documents/Machine%20Learning/SMU_Machine_Learning/capstone2/modeling_anom_concise.ipynb#ch0000091vscode-remote?line=0'>1</a>\u001b[0m \u001b[39mfrom\u001b[39;00m \u001b[39msynapse\u001b[39;00m\u001b[39m.\u001b[39;00m\u001b[39mml\u001b[39;00m\u001b[39m.\u001b[39;00m\u001b[39misolationforest\u001b[39;00m \u001b[39mimport\u001b[39;00m \u001b[39m*\u001b[39m\n\u001b[0;32m----> <a href='vscode-notebook-cell://wsl%2Bubuntu-20.04/mnt/c/Users/John%20Olanipekun/Documents/Machine%20Learning/SMU_Machine_Learning/capstone2/modeling_anom_concise.ipynb#ch0000091vscode-remote?line=2'>3</a>\u001b[0m isolationForest \u001b[39m=\u001b[39m (IsolationForest()\n\u001b[1;32m      <a href='vscode-notebook-cell://wsl%2Bubuntu-20.04/mnt/c/Users/John%20Olanipekun/Documents/Machine%20Learning/SMU_Machine_Learning/capstone2/modeling_anom_concise.ipynb#ch0000091vscode-remote?line=3'>4</a>\u001b[0m       \u001b[39m.\u001b[39msetNumEstimators(\u001b[39m100\u001b[39m)\n\u001b[1;32m      <a href='vscode-notebook-cell://wsl%2Bubuntu-20.04/mnt/c/Users/John%20Olanipekun/Documents/Machine%20Learning/SMU_Machine_Learning/capstone2/modeling_anom_concise.ipynb#ch0000091vscode-remote?line=4'>5</a>\u001b[0m       \u001b[39m.\u001b[39msetBootstrap(\u001b[39mFalse\u001b[39;00m)\n\u001b[1;32m      <a href='vscode-notebook-cell://wsl%2Bubuntu-20.04/mnt/c/Users/John%20Olanipekun/Documents/Machine%20Learning/SMU_Machine_Learning/capstone2/modeling_anom_concise.ipynb#ch0000091vscode-remote?line=5'>6</a>\u001b[0m       \u001b[39m.\u001b[39msetMaxSamples(\u001b[39m256\u001b[39m)\n\u001b[1;32m      <a href='vscode-notebook-cell://wsl%2Bubuntu-20.04/mnt/c/Users/John%20Olanipekun/Documents/Machine%20Learning/SMU_Machine_Learning/capstone2/modeling_anom_concise.ipynb#ch0000091vscode-remote?line=6'>7</a>\u001b[0m       \u001b[39m.\u001b[39msetMaxFeatures(\u001b[39m1.0\u001b[39m)\n\u001b[1;32m      <a href='vscode-notebook-cell://wsl%2Bubuntu-20.04/mnt/c/Users/John%20Olanipekun/Documents/Machine%20Learning/SMU_Machine_Learning/capstone2/modeling_anom_concise.ipynb#ch0000091vscode-remote?line=7'>8</a>\u001b[0m       \u001b[39m.\u001b[39msetFeaturesCol(\u001b[39m\"\u001b[39m\u001b[39mfeatures\u001b[39m\u001b[39m\"\u001b[39m)\n\u001b[1;32m      <a href='vscode-notebook-cell://wsl%2Bubuntu-20.04/mnt/c/Users/John%20Olanipekun/Documents/Machine%20Learning/SMU_Machine_Learning/capstone2/modeling_anom_concise.ipynb#ch0000091vscode-remote?line=8'>9</a>\u001b[0m       \u001b[39m.\u001b[39msetPredictionCol(\u001b[39m\"\u001b[39m\u001b[39mpredictedLabel\u001b[39m\u001b[39m\"\u001b[39m)\n\u001b[1;32m     <a href='vscode-notebook-cell://wsl%2Bubuntu-20.04/mnt/c/Users/John%20Olanipekun/Documents/Machine%20Learning/SMU_Machine_Learning/capstone2/modeling_anom_concise.ipynb#ch0000091vscode-remote?line=9'>10</a>\u001b[0m       \u001b[39m.\u001b[39msetScoreCol(\u001b[39m\"\u001b[39m\u001b[39moutlierScore\u001b[39m\u001b[39m\"\u001b[39m)\n\u001b[1;32m     <a href='vscode-notebook-cell://wsl%2Bubuntu-20.04/mnt/c/Users/John%20Olanipekun/Documents/Machine%20Learning/SMU_Machine_Learning/capstone2/modeling_anom_concise.ipynb#ch0000091vscode-remote?line=10'>11</a>\u001b[0m       \u001b[39m.\u001b[39msetContamination(\u001b[39m0.02\u001b[39m)\n\u001b[1;32m     <a href='vscode-notebook-cell://wsl%2Bubuntu-20.04/mnt/c/Users/John%20Olanipekun/Documents/Machine%20Learning/SMU_Machine_Learning/capstone2/modeling_anom_concise.ipynb#ch0000091vscode-remote?line=11'>12</a>\u001b[0m       \u001b[39m.\u001b[39msetContaminationError(\u001b[39m0.02\u001b[39m \u001b[39m*\u001b[39m \u001b[39m0.01\u001b[39m)\n\u001b[1;32m     <a href='vscode-notebook-cell://wsl%2Bubuntu-20.04/mnt/c/Users/John%20Olanipekun/Documents/Machine%20Learning/SMU_Machine_Learning/capstone2/modeling_anom_concise.ipynb#ch0000091vscode-remote?line=12'>13</a>\u001b[0m       \u001b[39m.\u001b[39msetRandomSeed(\u001b[39m1\u001b[39m))\n",
      "File \u001b[0;32m/mnt/c/Users/John Olanipekun/Documents/Machine Learning/SMU_Machine_Learning/ubuntu_smu_venv/lib/python3.8/site-packages/pyspark/__init__.py:114\u001b[0m, in \u001b[0;36mkeyword_only.<locals>.wrapper\u001b[0;34m(self, *args, **kwargs)\u001b[0m\n\u001b[1;32m    <a href='file:///mnt/c/Users/John%20Olanipekun/Documents/Machine%20Learning/SMU_Machine_Learning/ubuntu_smu_venv/lib/python3.8/site-packages/pyspark/__init__.py?line=111'>112</a>\u001b[0m     \u001b[39mraise\u001b[39;00m \u001b[39mTypeError\u001b[39;00m(\u001b[39m\"\u001b[39m\u001b[39mMethod \u001b[39m\u001b[39m%s\u001b[39;00m\u001b[39m forces keyword arguments.\u001b[39m\u001b[39m\"\u001b[39m \u001b[39m%\u001b[39m func\u001b[39m.\u001b[39m\u001b[39m__name__\u001b[39m)\n\u001b[1;32m    <a href='file:///mnt/c/Users/John%20Olanipekun/Documents/Machine%20Learning/SMU_Machine_Learning/ubuntu_smu_venv/lib/python3.8/site-packages/pyspark/__init__.py?line=112'>113</a>\u001b[0m \u001b[39mself\u001b[39m\u001b[39m.\u001b[39m_input_kwargs \u001b[39m=\u001b[39m kwargs\n\u001b[0;32m--> <a href='file:///mnt/c/Users/John%20Olanipekun/Documents/Machine%20Learning/SMU_Machine_Learning/ubuntu_smu_venv/lib/python3.8/site-packages/pyspark/__init__.py?line=113'>114</a>\u001b[0m \u001b[39mreturn\u001b[39;00m func(\u001b[39mself\u001b[39;49m, \u001b[39m*\u001b[39;49m\u001b[39m*\u001b[39;49mkwargs)\n",
      "File \u001b[0;32m/mnt/c/Users/John Olanipekun/Documents/Machine Learning/SMU_Machine_Learning/ubuntu_smu_venv/lib/python3.8/site-packages/synapse/ml/isolationforest/IsolationForest.py:77\u001b[0m, in \u001b[0;36mIsolationForest.__init__\u001b[0;34m(self, java_obj, bootstrap, contamination, contaminationError, featuresCol, maxFeatures, maxSamples, numEstimators, predictionCol, randomSeed, scoreCol)\u001b[0m\n\u001b[1;32m     <a href='file:///mnt/c/Users/John%20Olanipekun/Documents/Machine%20Learning/SMU_Machine_Learning/ubuntu_smu_venv/lib/python3.8/site-packages/synapse/ml/isolationforest/IsolationForest.py?line=74'>75</a>\u001b[0m \u001b[39msuper\u001b[39m(IsolationForest, \u001b[39mself\u001b[39m)\u001b[39m.\u001b[39m\u001b[39m__init__\u001b[39m()\n\u001b[1;32m     <a href='file:///mnt/c/Users/John%20Olanipekun/Documents/Machine%20Learning/SMU_Machine_Learning/ubuntu_smu_venv/lib/python3.8/site-packages/synapse/ml/isolationforest/IsolationForest.py?line=75'>76</a>\u001b[0m \u001b[39mif\u001b[39;00m java_obj \u001b[39mis\u001b[39;00m \u001b[39mNone\u001b[39;00m:\n\u001b[0;32m---> <a href='file:///mnt/c/Users/John%20Olanipekun/Documents/Machine%20Learning/SMU_Machine_Learning/ubuntu_smu_venv/lib/python3.8/site-packages/synapse/ml/isolationforest/IsolationForest.py?line=76'>77</a>\u001b[0m     \u001b[39mself\u001b[39m\u001b[39m.\u001b[39m_java_obj \u001b[39m=\u001b[39m \u001b[39mself\u001b[39;49m\u001b[39m.\u001b[39;49m_new_java_obj(\u001b[39m\"\u001b[39;49m\u001b[39mcom.microsoft.azure.synapse.ml.isolationforest.IsolationForest\u001b[39;49m\u001b[39m\"\u001b[39;49m, \u001b[39mself\u001b[39;49m\u001b[39m.\u001b[39;49muid)\n\u001b[1;32m     <a href='file:///mnt/c/Users/John%20Olanipekun/Documents/Machine%20Learning/SMU_Machine_Learning/ubuntu_smu_venv/lib/python3.8/site-packages/synapse/ml/isolationforest/IsolationForest.py?line=77'>78</a>\u001b[0m \u001b[39melse\u001b[39;00m:\n\u001b[1;32m     <a href='file:///mnt/c/Users/John%20Olanipekun/Documents/Machine%20Learning/SMU_Machine_Learning/ubuntu_smu_venv/lib/python3.8/site-packages/synapse/ml/isolationforest/IsolationForest.py?line=78'>79</a>\u001b[0m     \u001b[39mself\u001b[39m\u001b[39m.\u001b[39m_java_obj \u001b[39m=\u001b[39m java_obj\n",
      "File \u001b[0;32m/mnt/c/Users/John Olanipekun/Documents/Machine Learning/SMU_Machine_Learning/ubuntu_smu_venv/lib/python3.8/site-packages/pyspark/ml/wrapper.py:66\u001b[0m, in \u001b[0;36mJavaWrapper._new_java_obj\u001b[0;34m(java_class, *args)\u001b[0m\n\u001b[1;32m     <a href='file:///mnt/c/Users/John%20Olanipekun/Documents/Machine%20Learning/SMU_Machine_Learning/ubuntu_smu_venv/lib/python3.8/site-packages/pyspark/ml/wrapper.py?line=63'>64</a>\u001b[0m     java_obj \u001b[39m=\u001b[39m \u001b[39mgetattr\u001b[39m(java_obj, name)\n\u001b[1;32m     <a href='file:///mnt/c/Users/John%20Olanipekun/Documents/Machine%20Learning/SMU_Machine_Learning/ubuntu_smu_venv/lib/python3.8/site-packages/pyspark/ml/wrapper.py?line=64'>65</a>\u001b[0m java_args \u001b[39m=\u001b[39m [_py2java(sc, arg) \u001b[39mfor\u001b[39;00m arg \u001b[39min\u001b[39;00m args]\n\u001b[0;32m---> <a href='file:///mnt/c/Users/John%20Olanipekun/Documents/Machine%20Learning/SMU_Machine_Learning/ubuntu_smu_venv/lib/python3.8/site-packages/pyspark/ml/wrapper.py?line=65'>66</a>\u001b[0m \u001b[39mreturn\u001b[39;00m java_obj(\u001b[39m*\u001b[39;49mjava_args)\n",
      "\u001b[0;31mTypeError\u001b[0m: 'JavaPackage' object is not callable"
     ]
    }
   ],
   "source": [
    "from synapse.ml.isolationforest import *\n",
    "\n",
    "isolationForest = (IsolationForest()\n",
    "      .setNumEstimators(100)\n",
    "      .setBootstrap(False)\n",
    "      .setMaxSamples(256)\n",
    "      .setMaxFeatures(1.0)\n",
    "      .setFeaturesCol(\"features\")\n",
    "      .setPredictionCol(\"predictedLabel\")\n",
    "      .setScoreCol(\"outlierScore\")\n",
    "      .setContamination(0.02)\n",
    "      .setContaminationError(0.02 * 0.01)\n",
    "      .setRandomSeed(1))"
   ]
  },
  {
   "cell_type": "code",
   "execution_count": null,
   "metadata": {},
   "outputs": [],
   "source": []
  },
  {
   "cell_type": "code",
   "execution_count": null,
   "metadata": {},
   "outputs": [],
   "source": []
  },
  {
   "cell_type": "code",
   "execution_count": null,
   "metadata": {},
   "outputs": [],
   "source": []
  },
  {
   "cell_type": "code",
   "execution_count": null,
   "metadata": {},
   "outputs": [],
   "source": []
  },
  {
   "cell_type": "code",
   "execution_count": null,
   "metadata": {},
   "outputs": [],
   "source": []
  },
  {
   "cell_type": "code",
   "execution_count": null,
   "metadata": {},
   "outputs": [],
   "source": []
  },
  {
   "cell_type": "code",
   "execution_count": null,
   "metadata": {},
   "outputs": [],
   "source": []
  },
  {
   "cell_type": "code",
   "execution_count": null,
   "metadata": {},
   "outputs": [],
   "source": []
  },
  {
   "cell_type": "code",
   "execution_count": null,
   "metadata": {},
   "outputs": [],
   "source": []
  },
  {
   "cell_type": "code",
   "execution_count": null,
   "metadata": {},
   "outputs": [],
   "source": []
  },
  {
   "cell_type": "code",
   "execution_count": null,
   "metadata": {},
   "outputs": [],
   "source": []
  },
  {
   "cell_type": "code",
   "execution_count": null,
   "metadata": {},
   "outputs": [],
   "source": []
  },
  {
   "cell_type": "code",
   "execution_count": null,
   "metadata": {},
   "outputs": [],
   "source": []
  },
  {
   "cell_type": "code",
   "execution_count": null,
   "metadata": {},
   "outputs": [],
   "source": []
  },
  {
   "cell_type": "code",
   "execution_count": null,
   "metadata": {},
   "outputs": [],
   "source": []
  },
  {
   "cell_type": "code",
   "execution_count": null,
   "metadata": {
    "id": "obizGTXQzezk"
   },
   "outputs": [],
   "source": []
  },
  {
   "cell_type": "code",
   "execution_count": null,
   "metadata": {
    "id": "nZrxp5A7US5l"
   },
   "outputs": [],
   "source": []
  }
 ],
 "metadata": {
  "accelerator": "GPU",
  "colab": {
   "collapsed_sections": [],
   "name": "modeling_anom.ipynb",
   "provenance": []
  },
  "kernelspec": {
   "display_name": "Python 3 (ipykernel)",
   "language": "python",
   "name": "python3"
  },
  "language_info": {
   "codemirror_mode": {
    "name": "ipython",
    "version": 3
   },
   "file_extension": ".py",
   "mimetype": "text/x-python",
   "name": "python",
   "nbconvert_exporter": "python",
   "pygments_lexer": "ipython3",
   "version": "3.8.10"
  }
 },
 "nbformat": 4,
 "nbformat_minor": 1
}
